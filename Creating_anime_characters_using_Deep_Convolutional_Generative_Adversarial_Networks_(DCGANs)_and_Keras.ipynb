{
  "cells": [
    {
      "cell_type": "markdown",
      "metadata": {
        "id": "view-in-github",
        "colab_type": "text"
      },
      "source": [
        "<a href=\"https://colab.research.google.com/github/arima35/Creating-anime-characters-using-DCGANs-and-Keras/blob/main/Creating_anime_characters_using_Deep_Convolutional_Generative_Adversarial_Networks_(DCGANs)_and_Keras.ipynb\" target=\"_parent\"><img src=\"https://colab.research.google.com/assets/colab-badge.svg\" alt=\"Open In Colab\"/></a>"
      ]
    },
    {
      "cell_type": "markdown",
      "metadata": {
        "id": "hIi8BeUW9j86"
      },
      "source": [
        "# **Creating anime characters using Deep Convolutional Generative Adversarial Networks (DCGANs) and Keras**\n"
      ]
    },
    {
      "cell_type": "markdown",
      "source": [
        "**yang dibawah buat contoh pembuatan, untuk yang terbaru nanti di push lagi**"
      ],
      "metadata": {
        "id": "ihUhEADhnCJF"
      }
    },
    {
      "cell_type": "markdown",
      "metadata": {
        "id": "ouypbeD59j87"
      },
      "source": [
        "Estimated time needed: **60** minutes\n"
      ]
    },
    {
      "cell_type": "markdown",
      "metadata": {
        "id": "TMUDQsIs9j87"
      },
      "source": [
        "Imagine if you are in a video game company, your games is famous for its unique characters for every player. With the growth of the player amount, it comes to be a nearly impossible mission to hand plot the characters for millions of players. Your boss plans to keep the unique character creating function in the game, and you need a method to handle the task. <br>\n",
        "\n",
        "__Generative adversarial networks (GANs) might help!__<br>\n",
        "It is a class of machine learning frameworks, first published in June 2014 <a href=https://cf-courses-data.s3.us.cloud-object-storage.appdomain.cloud/IBM-GPXX0XCEEN/papers/1406.2661.pdf >[1]</a>. <br>\n",
        "GANs could generate new data following the statistic features of the data in the training set. GANs is widely used to generate new and realistic photograph that is authentic to human observers. <br>\n",
        "\n",
        "Convolutional networks (CNNs) has seen huge adoption in computer vision applications. Applying the CNNs to GANs models could help us in building a photo generating model. The combined method is called Deep Convolutional Generative Adversarial Networks (DCGANs). <br>\n",
        "\n",
        "In this lab, we will first focus on simulated data to better understand GANs. <br>\n",
        "Further, we will use the case of massive anime avatar production to introduce how to use DCGANs.<br>\n",
        "__You will create anime characters like the ones below in this project.__\n",
        "\n",
        "<img src=\"https://cf-courses-data.s3.us.cloud-object-storage.appdomain.cloud/IBM-GPXX0XCEEN/images/face_cartton.png\" width=\"700\" alt=\"Skills Network Logo\">\n"
      ]
    },
    {
      "cell_type": "markdown",
      "metadata": {
        "id": "tATGntZm9j87"
      },
      "source": [
        "----\n",
        "<center><img src=\"https://cf-courses-data.s3.us.cloud-object-storage.appdomain.cloud/IBM-GPXX0XCEEN/images/unknown4.jpeg\" width=\"50%\"></center>\n"
      ]
    },
    {
      "cell_type": "markdown",
      "metadata": {
        "id": "qU9xogDl9j88"
      },
      "source": [
        "## Setup\n"
      ]
    },
    {
      "cell_type": "markdown",
      "metadata": {
        "id": "HNv10qsH9j88"
      },
      "source": [
        "For this lab, we will be using the following libraries:\n",
        "\n",
        "*   [`pandas`](https://pandas.pydata.org/?utm_medium=Exinfluencer&utm_source=Exinfluencer&utm_content=000026UJ&utm_term=10006555&utm_id=NA-SkillsNetwork-Channel-SkillsNetworkCoursesIBMML0187ENSkillsNetwork31430127-2021-01-01) for managing the data.\n",
        "*   [`numpy`](https://numpy.org/?utm_medium=Exinfluencer&utm_source=Exinfluencer&utm_content=000026UJ&utm_term=10006555&utm_id=NA-SkillsNetwork-Channel-SkillsNetworkCoursesIBMML0187ENSkillsNetwork31430127-2021-01-01) for mathematical operations.\n",
        "*   [`sklearn`](https://scikit-learn.org/stable/?utm_medium=Exinfluencer&utm_source=Exinfluencer&utm_content=000026UJ&utm_term=10006555&utm_id=NA-SkillsNetwork-Channel-SkillsNetworkCoursesIBMML0187ENSkillsNetwork31430127-2021-01-01) for machine learning and machine-learning-pipeline related functions.\n",
        "*   [`seaborn`](https://seaborn.pydata.org/?utm_medium=Exinfluencer&utm_source=Exinfluencer&utm_content=000026UJ&utm_term=10006555&utm_id=NA-SkillsNetwork-Channel-SkillsNetworkCoursesIBMML0187ENSkillsNetwork31430127-2021-01-01) for visualizing the data.\n",
        "*   [`matplotlib`](https://matplotlib.org/?utm_medium=Exinfluencer&utm_source=Exinfluencer&utm_content=000026UJ&utm_term=10006555&utm_id=NA-SkillsNetwork-Channel-SkillsNetworkCoursesIBMML0187ENSkillsNetwork31430127-2021-01-01) for additional plotting tools.\n",
        "*   [`keras`](https://keras.io/?utm_medium=Exinfluencer&utm_source=Exinfluencer&utm_content=000026UJ&utm_term=10006555&utm_id=NA-SkillsNetwork-Channel-SkillsNetworkCoursesIBMML0187ENSkillsNetwork31430127-2021-01-01) for loading datasets.\n",
        "*   [`tensorflow`](https://www.tensorflow.org/?utm_medium=Exinfluencer&utm_source=Exinfluencer&utm_content=000026UJ&utm_term=10006555&utm_id=NA-SkillsNetwork-Channel-SkillsNetworkCoursesIBMML0187ENSkillsNetwork31430127-2021-01-01) for machine learning and neural network related functions.\n",
        "\n",
        "\n"
      ]
    },
    {
      "cell_type": "markdown",
      "metadata": {
        "id": "uq5rrumu9j88"
      },
      "source": [
        "### Installing Required Libraries\n",
        "\n",
        "The following required libraries are pre-installed in the Skills Network Labs environment. However, if you run this notebook commands in a different Jupyter environment (e.g. Watson Studio or Ananconda), you will need to install these libraries by removing the `#` sign before `!mamba` in the code cell below.\n"
      ]
    },
    {
      "cell_type": "code",
      "execution_count": null,
      "metadata": {
        "colab": {
          "base_uri": "https://localhost:8080/",
          "height": 512
        },
        "id": "j-B0Kz0L47rj",
        "outputId": "a9a091b7-6138-4fab-86d9-88343d170ab3"
      },
      "outputs": [
        {
          "output_type": "stream",
          "name": "stdout",
          "text": [
            "Requirement already satisfied: pip in /usr/local/lib/python3.10/dist-packages (24.1.2)\n",
            "Collecting pip\n",
            "  Downloading pip-24.3.1-py3-none-any.whl.metadata (3.7 kB)\n",
            "Requirement already satisfied: setuptools in /usr/local/lib/python3.10/dist-packages (75.1.0)\n",
            "Collecting setuptools\n",
            "  Downloading setuptools-75.6.0-py3-none-any.whl.metadata (6.7 kB)\n",
            "Requirement already satisfied: wheel in /usr/local/lib/python3.10/dist-packages (0.45.1)\n",
            "Downloading pip-24.3.1-py3-none-any.whl (1.8 MB)\n",
            "\u001b[2K   \u001b[90m━━━━━━━━━━━━━━━━━━━━━━━━━━━━━━━━━━━━━━━━\u001b[0m \u001b[32m1.8/1.8 MB\u001b[0m \u001b[31m12.3 MB/s\u001b[0m eta \u001b[36m0:00:00\u001b[0m\n",
            "\u001b[?25hDownloading setuptools-75.6.0-py3-none-any.whl (1.2 MB)\n",
            "\u001b[2K   \u001b[90m━━━━━━━━━━━━━━━━━━━━━━━━━━━━━━━━━━━━━━━━\u001b[0m \u001b[32m1.2/1.2 MB\u001b[0m \u001b[31m19.4 MB/s\u001b[0m eta \u001b[36m0:00:00\u001b[0m\n",
            "\u001b[?25hInstalling collected packages: setuptools, pip\n",
            "  Attempting uninstall: setuptools\n",
            "    Found existing installation: setuptools 75.1.0\n",
            "    Uninstalling setuptools-75.1.0:\n",
            "      Successfully uninstalled setuptools-75.1.0\n",
            "  Attempting uninstall: pip\n",
            "    Found existing installation: pip 24.1.2\n",
            "    Uninstalling pip-24.1.2:\n",
            "      Successfully uninstalled pip-24.1.2\n",
            "\u001b[31mERROR: pip's dependency resolver does not currently take into account all the packages that are installed. This behaviour is the source of the following dependency conflicts.\n",
            "ipython 7.34.0 requires jedi>=0.16, which is not installed.\u001b[0m\u001b[31m\n",
            "\u001b[0mSuccessfully installed pip-24.3.1 setuptools-75.6.0\n"
          ]
        },
        {
          "output_type": "display_data",
          "data": {
            "application/vnd.colab-display-data+json": {
              "pip_warning": {
                "packages": [
                  "_distutils_hack",
                  "setuptools"
                ]
              },
              "id": "33f38d49e5894808989d9cd7cd86aaa8"
            }
          },
          "metadata": {}
        }
      ],
      "source": [
        "!pip install --upgrade pip setuptools wheel\n"
      ]
    },
    {
      "cell_type": "code",
      "execution_count": null,
      "metadata": {
        "id": "VIhU1vuI9j89",
        "colab": {
          "base_uri": "https://localhost:8080/"
        },
        "outputId": "abf7b03c-f68d-48cb-9359-7c87c9d1c30b"
      },
      "outputs": [
        {
          "output_type": "stream",
          "name": "stdout",
          "text": [
            "\u001b[2K   \u001b[90m━━━━━━━━━━━━━━━━━━━━━━━━━━━━━━━━━━━━━━━━\u001b[0m \u001b[32m11.5/11.5 MB\u001b[0m \u001b[31m56.1 MB/s\u001b[0m eta \u001b[36m0:00:00\u001b[0m\n",
            "\u001b[2K   \u001b[90m━━━━━━━━━━━━━━━━━━━━━━━━━━━━━━━━━━━━━━━━\u001b[0m \u001b[32m15.9/15.9 MB\u001b[0m \u001b[31m53.0 MB/s\u001b[0m eta \u001b[36m0:00:00\u001b[0m\n",
            "\u001b[2K   \u001b[90m━━━━━━━━━━━━━━━━━━━━━━━━━━━━━━━━━━━━━━━━\u001b[0m \u001b[32m11.9/11.9 MB\u001b[0m \u001b[31m55.4 MB/s\u001b[0m eta \u001b[36m0:00:00\u001b[0m\n",
            "\u001b[2K   \u001b[90m━━━━━━━━━━━━━━━━━━━━━━━━━━━━━━━━━━━━━━━━\u001b[0m \u001b[32m26.5/26.5 MB\u001b[0m \u001b[31m28.0 MB/s\u001b[0m eta \u001b[36m0:00:00\u001b[0m\n",
            "\u001b[2K   \u001b[90m━━━━━━━━━━━━━━━━━━━━━━━━━━━━━━━━━━━━━━━━\u001b[0m \u001b[32m34.4/34.4 MB\u001b[0m \u001b[31m35.3 MB/s\u001b[0m eta \u001b[36m0:00:00\u001b[0m\n",
            "\u001b[?25h\u001b[31mERROR: pip's dependency resolver does not currently take into account all the packages that are installed. This behaviour is the source of the following dependency conflicts.\n",
            "albucore 0.0.19 requires numpy>=1.24.4, but you have numpy 1.21.4 which is incompatible.\n",
            "albumentations 1.4.20 requires numpy>=1.24.4, but you have numpy 1.21.4 which is incompatible.\n",
            "arviz 0.20.0 requires numpy>=1.23.0, but you have numpy 1.21.4 which is incompatible.\n",
            "arviz 0.20.0 requires pandas>=1.5.0, but you have pandas 1.3.4 which is incompatible.\n",
            "astropy 6.1.7 requires numpy>=1.23, but you have numpy 1.21.4 which is incompatible.\n",
            "bigframes 1.27.0 requires matplotlib>=3.7.1, but you have matplotlib 3.5.0 which is incompatible.\n",
            "bigframes 1.27.0 requires numpy>=1.24.0, but you have numpy 1.21.4 which is incompatible.\n",
            "bigframes 1.27.0 requires pandas>=1.5.3, but you have pandas 1.3.4 which is incompatible.\n",
            "bigframes 1.27.0 requires scikit-learn>=1.2.2, but you have scikit-learn 1.0.2 which is incompatible.\n",
            "chex 0.1.87 requires numpy>=1.24.1, but you have numpy 1.21.4 which is incompatible.\n",
            "contourpy 1.3.1 requires numpy>=1.23, but you have numpy 1.21.4 which is incompatible.\n",
            "cudf-cu12 24.10.1 requires numpy<3.0a0,>=1.23, but you have numpy 1.21.4 which is incompatible.\n",
            "cudf-cu12 24.10.1 requires pandas<2.2.3dev0,>=2.0, but you have pandas 1.3.4 which is incompatible.\n",
            "flax 0.8.5 requires numpy>=1.22, but you have numpy 1.21.4 which is incompatible.\n",
            "geopandas 1.0.1 requires numpy>=1.22, but you have numpy 1.21.4 which is incompatible.\n",
            "geopandas 1.0.1 requires pandas>=1.4.0, but you have pandas 1.3.4 which is incompatible.\n",
            "google-colab 1.0.0 requires pandas==2.2.2, but you have pandas 1.3.4 which is incompatible.\n",
            "ibis-framework 9.2.0 requires numpy<3,>=1.23.2, but you have numpy 1.21.4 which is incompatible.\n",
            "ibis-framework 9.2.0 requires pandas<3,>=1.5.3, but you have pandas 1.3.4 which is incompatible.\n",
            "jax 0.4.33 requires numpy>=1.24, but you have numpy 1.21.4 which is incompatible.\n",
            "jaxlib 0.4.33 requires numpy>=1.24, but you have numpy 1.21.4 which is incompatible.\n",
            "langchain 0.3.11 requires numpy<2,>=1.22.4; python_version < \"3.12\", but you have numpy 1.21.4 which is incompatible.\n",
            "mizani 0.13.1 requires numpy>=1.23.5, but you have numpy 1.21.4 which is incompatible.\n",
            "mizani 0.13.1 requires pandas>=2.2.0, but you have pandas 1.3.4 which is incompatible.\n",
            "mlxtend 0.23.3 requires scikit-learn>=1.3.1, but you have scikit-learn 1.0.2 which is incompatible.\n",
            "nibabel 5.3.2 requires numpy>=1.22, but you have numpy 1.21.4 which is incompatible.\n",
            "numba 0.60.0 requires numpy<2.1,>=1.22, but you have numpy 1.21.4 which is incompatible.\n",
            "numexpr 2.10.2 requires numpy>=1.23.0, but you have numpy 1.21.4 which is incompatible.\n",
            "nx-cugraph-cu12 24.10.0 requires numpy<3.0a0,>=1.23, but you have numpy 1.21.4 which is incompatible.\n",
            "pandas-stubs 2.2.2.240909 requires numpy>=1.23.5, but you have numpy 1.21.4 which is incompatible.\n",
            "plotnine 0.14.3 requires matplotlib>=3.8.0, but you have matplotlib 3.5.0 which is incompatible.\n",
            "plotnine 0.14.3 requires numpy>=1.23.5, but you have numpy 1.21.4 which is incompatible.\n",
            "plotnine 0.14.3 requires pandas>=2.2.0, but you have pandas 1.3.4 which is incompatible.\n",
            "pylibraft-cu12 24.10.0 requires numpy<3.0a0,>=1.23, but you have numpy 1.21.4 which is incompatible.\n",
            "rmm-cu12 24.10.0 requires numpy<3.0a0,>=1.23, but you have numpy 1.21.4 which is incompatible.\n",
            "scikit-image 0.24.0 requires numpy>=1.23, but you have numpy 1.21.4 which is incompatible.\n",
            "statsmodels 0.14.4 requires numpy<3,>=1.22.3, but you have numpy 1.21.4 which is incompatible.\n",
            "statsmodels 0.14.4 requires pandas!=2.1.0,>=1.4, but you have pandas 1.3.4 which is incompatible.\n",
            "tensorflow 2.17.1 requires numpy<2.0.0,>=1.23.5; python_version <= \"3.11\", but you have numpy 1.21.4 which is incompatible.\n",
            "tensorstore 0.1.69 requires numpy>=1.22.0, but you have numpy 1.21.4 which is incompatible.\n",
            "xarray 2024.10.0 requires numpy>=1.24, but you have numpy 1.21.4 which is incompatible.\n",
            "xarray 2024.10.0 requires pandas>=2.1, but you have pandas 1.3.4 which is incompatible.\n",
            "xarray-einstats 0.8.0 requires numpy>=1.23, but you have numpy 1.21.4 which is incompatible.\u001b[0m\u001b[31m\n",
            "\u001b[0m"
          ]
        }
      ],
      "source": [
        "# All Libraries required for this lab are listed below. The libraries pre-installed on Skills Network Labs are commented.\n",
        "!pip install -q pandas==1.3.4 numpy==1.21.4 seaborn==0.9.0 matplotlib==3.5.0 scikit-learn==1.0.2\n",
        "\n",
        "# Note: If your environment doesn't support \"!mamba install\", use \"!pip install\""
      ]
    },
    {
      "cell_type": "code",
      "execution_count": null,
      "metadata": {
        "colab": {
          "base_uri": "https://localhost:8080/",
          "height": 530
        },
        "id": "Q-Zx7iN0FHck",
        "outputId": "1d53bbf7-f9ea-49e4-efe8-b2b5115d6797"
      },
      "outputs": [
        {
          "output_type": "stream",
          "name": "stdout",
          "text": [
            "Collecting numpy==1.25.2\n",
            "  Downloading numpy-1.25.2-cp310-cp310-manylinux_2_17_x86_64.manylinux2014_x86_64.whl.metadata (5.6 kB)\n",
            "Downloading numpy-1.25.2-cp310-cp310-manylinux_2_17_x86_64.manylinux2014_x86_64.whl (18.2 MB)\n",
            "\u001b[2K   \u001b[90m━━━━━━━━━━━━━━━━━━━━━━━━━━━━━━━━━━━━━━━━\u001b[0m \u001b[32m18.2/18.2 MB\u001b[0m \u001b[31m85.2 MB/s\u001b[0m eta \u001b[36m0:00:00\u001b[0m\n",
            "\u001b[?25hInstalling collected packages: numpy\n",
            "  Attempting uninstall: numpy\n",
            "    Found existing installation: numpy 1.21.4\n",
            "    Uninstalling numpy-1.21.4:\n",
            "      Successfully uninstalled numpy-1.21.4\n",
            "\u001b[31mERROR: pip's dependency resolver does not currently take into account all the packages that are installed. This behaviour is the source of the following dependency conflicts.\n",
            "arviz 0.20.0 requires pandas>=1.5.0, but you have pandas 1.3.4 which is incompatible.\n",
            "bigframes 1.27.0 requires matplotlib>=3.7.1, but you have matplotlib 3.5.0 which is incompatible.\n",
            "bigframes 1.27.0 requires pandas>=1.5.3, but you have pandas 1.3.4 which is incompatible.\n",
            "bigframes 1.27.0 requires scikit-learn>=1.2.2, but you have scikit-learn 1.0.2 which is incompatible.\n",
            "cudf-cu12 24.10.1 requires pandas<2.2.3dev0,>=2.0, but you have pandas 1.3.4 which is incompatible.\n",
            "geopandas 1.0.1 requires pandas>=1.4.0, but you have pandas 1.3.4 which is incompatible.\n",
            "ibis-framework 9.2.0 requires pandas<3,>=1.5.3, but you have pandas 1.3.4 which is incompatible.\n",
            "mizani 0.13.1 requires pandas>=2.2.0, but you have pandas 1.3.4 which is incompatible.\n",
            "mlxtend 0.23.3 requires scikit-learn>=1.3.1, but you have scikit-learn 1.0.2 which is incompatible.\n",
            "plotnine 0.14.3 requires matplotlib>=3.8.0, but you have matplotlib 3.5.0 which is incompatible.\n",
            "plotnine 0.14.3 requires pandas>=2.2.0, but you have pandas 1.3.4 which is incompatible.\n",
            "statsmodels 0.14.4 requires pandas!=2.1.0,>=1.4, but you have pandas 1.3.4 which is incompatible.\n",
            "xarray 2024.10.0 requires pandas>=2.1, but you have pandas 1.3.4 which is incompatible.\u001b[0m\u001b[31m\n",
            "\u001b[0mSuccessfully installed numpy-1.25.2\n"
          ]
        },
        {
          "output_type": "display_data",
          "data": {
            "application/vnd.colab-display-data+json": {
              "pip_warning": {
                "packages": [
                  "numpy"
                ]
              },
              "id": "fd650aa326ff4a5f9b79437e70b82d6f"
            }
          },
          "metadata": {}
        }
      ],
      "source": [
        "\n",
        "!pip install --upgrade numpy==1.25.2"
      ]
    },
    {
      "cell_type": "markdown",
      "metadata": {
        "id": "YLWFCnjd9j89"
      },
      "source": [
        "The following required libraries are __not__ pre-installed in the Skills Network Labs environment. __You will need to run the following cell__ to install them:\n",
        "\n",
        "_You need ~30 seconds to install._\n"
      ]
    },
    {
      "cell_type": "code",
      "execution_count": null,
      "metadata": {
        "colab": {
          "base_uri": "https://localhost:8080/"
        },
        "id": "fWfFttK_9j89",
        "outputId": "91da9fb9-b068-47c5-da76-11b5ddd70b42"
      },
      "outputs": [
        {
          "output_type": "stream",
          "name": "stdout",
          "text": [
            "Requirement already satisfied: tqdm in /usr/local/lib/python3.10/dist-packages (4.66.6)\n",
            "Collecting skillsnetwork\n",
            "  Downloading skillsnetwork-0.21.9-py3-none-any.whl.metadata (2.0 kB)\n",
            "Requirement already satisfied: ipython in /usr/local/lib/python3.10/dist-packages (from skillsnetwork) (7.34.0)\n",
            "Collecting ipywidgets<9,>=8 (from skillsnetwork)\n",
            "  Downloading ipywidgets-8.1.5-py3-none-any.whl.metadata (2.3 kB)\n",
            "Requirement already satisfied: requests<3,>=2 in /usr/local/lib/python3.10/dist-packages (from skillsnetwork) (2.32.3)\n",
            "Collecting comm>=0.1.3 (from ipywidgets<9,>=8->skillsnetwork)\n",
            "  Downloading comm-0.2.2-py3-none-any.whl.metadata (3.7 kB)\n",
            "Requirement already satisfied: traitlets>=4.3.1 in /usr/local/lib/python3.10/dist-packages (from ipywidgets<9,>=8->skillsnetwork) (5.7.1)\n",
            "Collecting widgetsnbextension~=4.0.12 (from ipywidgets<9,>=8->skillsnetwork)\n",
            "  Downloading widgetsnbextension-4.0.13-py3-none-any.whl.metadata (1.6 kB)\n",
            "Requirement already satisfied: jupyterlab-widgets~=3.0.12 in /usr/local/lib/python3.10/dist-packages (from ipywidgets<9,>=8->skillsnetwork) (3.0.13)\n",
            "Requirement already satisfied: setuptools>=18.5 in /usr/local/lib/python3.10/dist-packages (from ipython->skillsnetwork) (75.6.0)\n",
            "Collecting jedi>=0.16 (from ipython->skillsnetwork)\n",
            "  Downloading jedi-0.19.2-py2.py3-none-any.whl.metadata (22 kB)\n",
            "Requirement already satisfied: decorator in /usr/local/lib/python3.10/dist-packages (from ipython->skillsnetwork) (4.4.2)\n",
            "Requirement already satisfied: pickleshare in /usr/local/lib/python3.10/dist-packages (from ipython->skillsnetwork) (0.7.5)\n",
            "Requirement already satisfied: prompt-toolkit!=3.0.0,!=3.0.1,<3.1.0,>=2.0.0 in /usr/local/lib/python3.10/dist-packages (from ipython->skillsnetwork) (3.0.48)\n",
            "Requirement already satisfied: pygments in /usr/local/lib/python3.10/dist-packages (from ipython->skillsnetwork) (2.18.0)\n",
            "Requirement already satisfied: backcall in /usr/local/lib/python3.10/dist-packages (from ipython->skillsnetwork) (0.2.0)\n",
            "Requirement already satisfied: matplotlib-inline in /usr/local/lib/python3.10/dist-packages (from ipython->skillsnetwork) (0.1.7)\n",
            "Requirement already satisfied: pexpect>4.3 in /usr/local/lib/python3.10/dist-packages (from ipython->skillsnetwork) (4.9.0)\n",
            "Requirement already satisfied: charset-normalizer<4,>=2 in /usr/local/lib/python3.10/dist-packages (from requests<3,>=2->skillsnetwork) (3.4.0)\n",
            "Requirement already satisfied: idna<4,>=2.5 in /usr/local/lib/python3.10/dist-packages (from requests<3,>=2->skillsnetwork) (3.10)\n",
            "Requirement already satisfied: urllib3<3,>=1.21.1 in /usr/local/lib/python3.10/dist-packages (from requests<3,>=2->skillsnetwork) (2.2.3)\n",
            "Requirement already satisfied: certifi>=2017.4.17 in /usr/local/lib/python3.10/dist-packages (from requests<3,>=2->skillsnetwork) (2024.8.30)\n",
            "Requirement already satisfied: parso<0.9.0,>=0.8.4 in /usr/local/lib/python3.10/dist-packages (from jedi>=0.16->ipython->skillsnetwork) (0.8.4)\n",
            "Requirement already satisfied: ptyprocess>=0.5 in /usr/local/lib/python3.10/dist-packages (from pexpect>4.3->ipython->skillsnetwork) (0.7.0)\n",
            "Requirement already satisfied: wcwidth in /usr/local/lib/python3.10/dist-packages (from prompt-toolkit!=3.0.0,!=3.0.1,<3.1.0,>=2.0.0->ipython->skillsnetwork) (0.2.13)\n",
            "Downloading skillsnetwork-0.21.9-py3-none-any.whl (26 kB)\n",
            "Downloading ipywidgets-8.1.5-py3-none-any.whl (139 kB)\n",
            "Downloading comm-0.2.2-py3-none-any.whl (7.2 kB)\n",
            "Downloading jedi-0.19.2-py2.py3-none-any.whl (1.6 MB)\n",
            "\u001b[2K   \u001b[90m━━━━━━━━━━━━━━━━━━━━━━━━━━━━━━━━━━━━━━━━\u001b[0m \u001b[32m1.6/1.6 MB\u001b[0m \u001b[31m41.7 MB/s\u001b[0m eta \u001b[36m0:00:00\u001b[0m\n",
            "\u001b[?25hDownloading widgetsnbextension-4.0.13-py3-none-any.whl (2.3 MB)\n",
            "\u001b[2K   \u001b[90m━━━━━━━━━━━━━━━━━━━━━━━━━━━━━━━━━━━━━━━━\u001b[0m \u001b[32m2.3/2.3 MB\u001b[0m \u001b[31m94.2 MB/s\u001b[0m eta \u001b[36m0:00:00\u001b[0m\n",
            "\u001b[?25hInstalling collected packages: widgetsnbextension, jedi, comm, ipywidgets, skillsnetwork\n",
            "  Attempting uninstall: widgetsnbextension\n",
            "    Found existing installation: widgetsnbextension 3.6.10\n",
            "    Uninstalling widgetsnbextension-3.6.10:\n",
            "      Successfully uninstalled widgetsnbextension-3.6.10\n",
            "  Attempting uninstall: ipywidgets\n",
            "    Found existing installation: ipywidgets 7.7.1\n",
            "    Uninstalling ipywidgets-7.7.1:\n",
            "      Successfully uninstalled ipywidgets-7.7.1\n",
            "\u001b[31mERROR: pip's dependency resolver does not currently take into account all the packages that are installed. This behaviour is the source of the following dependency conflicts.\n",
            "bigframes 1.27.0 requires matplotlib>=3.7.1, but you have matplotlib 3.5.0 which is incompatible.\n",
            "bigframes 1.27.0 requires pandas>=1.5.3, but you have pandas 1.3.4 which is incompatible.\n",
            "bigframes 1.27.0 requires scikit-learn>=1.2.2, but you have scikit-learn 1.0.2 which is incompatible.\u001b[0m\u001b[31m\n",
            "\u001b[0mSuccessfully installed comm-0.2.2 ipywidgets-8.1.5 jedi-0.19.2 skillsnetwork-0.21.9 widgetsnbextension-4.0.13\n"
          ]
        }
      ],
      "source": [
        "%pip install tqdm skillsnetwork"
      ]
    },
    {
      "cell_type": "markdown",
      "metadata": {
        "id": "kS7ZgKw09j89"
      },
      "source": [
        "Run the following upgrade and then **RESTART YOUR KERNEL**. Make sure the version of tensorflow imported below is **no less than 2.9.0**.\n"
      ]
    },
    {
      "cell_type": "code",
      "execution_count": null,
      "metadata": {
        "colab": {
          "base_uri": "https://localhost:8080/"
        },
        "collapsed": true,
        "id": "DgGfUR439j89",
        "outputId": "82f60e7b-416a-450d-900a-d8bdd5219ce1"
      },
      "outputs": [
        {
          "output_type": "stream",
          "name": "stdout",
          "text": [
            "Requirement already satisfied: tensorflow in /usr/local/lib/python3.10/dist-packages (2.17.1)\n",
            "Collecting tensorflow\n",
            "  Downloading tensorflow-2.18.0-cp310-cp310-manylinux_2_17_x86_64.manylinux2014_x86_64.whl.metadata (4.1 kB)\n",
            "Requirement already satisfied: absl-py>=1.0.0 in /usr/local/lib/python3.10/dist-packages (from tensorflow) (1.4.0)\n",
            "Requirement already satisfied: astunparse>=1.6.0 in /usr/local/lib/python3.10/dist-packages (from tensorflow) (1.6.3)\n",
            "Requirement already satisfied: flatbuffers>=24.3.25 in /usr/local/lib/python3.10/dist-packages (from tensorflow) (24.3.25)\n",
            "Requirement already satisfied: gast!=0.5.0,!=0.5.1,!=0.5.2,>=0.2.1 in /usr/local/lib/python3.10/dist-packages (from tensorflow) (0.6.0)\n",
            "Requirement already satisfied: google-pasta>=0.1.1 in /usr/local/lib/python3.10/dist-packages (from tensorflow) (0.2.0)\n",
            "Requirement already satisfied: libclang>=13.0.0 in /usr/local/lib/python3.10/dist-packages (from tensorflow) (18.1.1)\n",
            "Requirement already satisfied: opt-einsum>=2.3.2 in /usr/local/lib/python3.10/dist-packages (from tensorflow) (3.4.0)\n",
            "Requirement already satisfied: packaging in /usr/local/lib/python3.10/dist-packages (from tensorflow) (24.2)\n",
            "Requirement already satisfied: protobuf!=4.21.0,!=4.21.1,!=4.21.2,!=4.21.3,!=4.21.4,!=4.21.5,<6.0.0dev,>=3.20.3 in /usr/local/lib/python3.10/dist-packages (from tensorflow) (4.25.5)\n",
            "Requirement already satisfied: requests<3,>=2.21.0 in /usr/local/lib/python3.10/dist-packages (from tensorflow) (2.32.3)\n",
            "Requirement already satisfied: setuptools in /usr/local/lib/python3.10/dist-packages (from tensorflow) (75.6.0)\n",
            "Requirement already satisfied: six>=1.12.0 in /usr/local/lib/python3.10/dist-packages (from tensorflow) (1.17.0)\n",
            "Requirement already satisfied: termcolor>=1.1.0 in /usr/local/lib/python3.10/dist-packages (from tensorflow) (2.5.0)\n",
            "Requirement already satisfied: typing-extensions>=3.6.6 in /usr/local/lib/python3.10/dist-packages (from tensorflow) (4.12.2)\n",
            "Requirement already satisfied: wrapt>=1.11.0 in /usr/local/lib/python3.10/dist-packages (from tensorflow) (1.17.0)\n",
            "Requirement already satisfied: grpcio<2.0,>=1.24.3 in /usr/local/lib/python3.10/dist-packages (from tensorflow) (1.68.1)\n",
            "Collecting tensorboard<2.19,>=2.18 (from tensorflow)\n",
            "  Downloading tensorboard-2.18.0-py3-none-any.whl.metadata (1.6 kB)\n",
            "Requirement already satisfied: keras>=3.5.0 in /usr/local/lib/python3.10/dist-packages (from tensorflow) (3.5.0)\n",
            "Collecting numpy<2.1.0,>=1.26.0 (from tensorflow)\n",
            "  Downloading numpy-2.0.2-cp310-cp310-manylinux_2_17_x86_64.manylinux2014_x86_64.whl.metadata (60 kB)\n",
            "Requirement already satisfied: h5py>=3.11.0 in /usr/local/lib/python3.10/dist-packages (from tensorflow) (3.12.1)\n",
            "Requirement already satisfied: ml-dtypes<0.5.0,>=0.4.0 in /usr/local/lib/python3.10/dist-packages (from tensorflow) (0.4.1)\n",
            "Requirement already satisfied: tensorflow-io-gcs-filesystem>=0.23.1 in /usr/local/lib/python3.10/dist-packages (from tensorflow) (0.37.1)\n",
            "Requirement already satisfied: wheel<1.0,>=0.23.0 in /usr/local/lib/python3.10/dist-packages (from astunparse>=1.6.0->tensorflow) (0.45.1)\n",
            "Requirement already satisfied: rich in /usr/local/lib/python3.10/dist-packages (from keras>=3.5.0->tensorflow) (13.9.4)\n",
            "Requirement already satisfied: namex in /usr/local/lib/python3.10/dist-packages (from keras>=3.5.0->tensorflow) (0.0.8)\n",
            "Requirement already satisfied: optree in /usr/local/lib/python3.10/dist-packages (from keras>=3.5.0->tensorflow) (0.13.1)\n",
            "Requirement already satisfied: charset-normalizer<4,>=2 in /usr/local/lib/python3.10/dist-packages (from requests<3,>=2.21.0->tensorflow) (3.4.0)\n",
            "Requirement already satisfied: idna<4,>=2.5 in /usr/local/lib/python3.10/dist-packages (from requests<3,>=2.21.0->tensorflow) (3.10)\n",
            "Requirement already satisfied: urllib3<3,>=1.21.1 in /usr/local/lib/python3.10/dist-packages (from requests<3,>=2.21.0->tensorflow) (2.2.3)\n",
            "Requirement already satisfied: certifi>=2017.4.17 in /usr/local/lib/python3.10/dist-packages (from requests<3,>=2.21.0->tensorflow) (2024.8.30)\n",
            "Requirement already satisfied: markdown>=2.6.8 in /usr/local/lib/python3.10/dist-packages (from tensorboard<2.19,>=2.18->tensorflow) (3.7)\n",
            "Requirement already satisfied: tensorboard-data-server<0.8.0,>=0.7.0 in /usr/local/lib/python3.10/dist-packages (from tensorboard<2.19,>=2.18->tensorflow) (0.7.2)\n",
            "Requirement already satisfied: werkzeug>=1.0.1 in /usr/local/lib/python3.10/dist-packages (from tensorboard<2.19,>=2.18->tensorflow) (3.1.3)\n",
            "Requirement already satisfied: MarkupSafe>=2.1.1 in /usr/local/lib/python3.10/dist-packages (from werkzeug>=1.0.1->tensorboard<2.19,>=2.18->tensorflow) (3.0.2)\n",
            "Requirement already satisfied: markdown-it-py>=2.2.0 in /usr/local/lib/python3.10/dist-packages (from rich->keras>=3.5.0->tensorflow) (3.0.0)\n",
            "Requirement already satisfied: pygments<3.0.0,>=2.13.0 in /usr/local/lib/python3.10/dist-packages (from rich->keras>=3.5.0->tensorflow) (2.18.0)\n",
            "Requirement already satisfied: mdurl~=0.1 in /usr/local/lib/python3.10/dist-packages (from markdown-it-py>=2.2.0->rich->keras>=3.5.0->tensorflow) (0.1.2)\n",
            "Downloading tensorflow-2.18.0-cp310-cp310-manylinux_2_17_x86_64.manylinux2014_x86_64.whl (615.3 MB)\n",
            "\u001b[2K   \u001b[90m━━━━━━━━━━━━━━━━━━━━━━━━━━━━━━━━━━━━━━━━\u001b[0m \u001b[32m615.3/615.3 MB\u001b[0m \u001b[31m39.4 MB/s\u001b[0m eta \u001b[36m0:00:00\u001b[0m\n",
            "\u001b[?25hDownloading numpy-2.0.2-cp310-cp310-manylinux_2_17_x86_64.manylinux2014_x86_64.whl (19.5 MB)\n",
            "\u001b[2K   \u001b[90m━━━━━━━━━━━━━━━━━━━━━━━━━━━━━━━━━━━━━━━━\u001b[0m \u001b[32m19.5/19.5 MB\u001b[0m \u001b[31m46.9 MB/s\u001b[0m eta \u001b[36m0:00:00\u001b[0m\n",
            "\u001b[?25hDownloading tensorboard-2.18.0-py3-none-any.whl (5.5 MB)\n",
            "\u001b[2K   \u001b[90m━━━━━━━━━━━━━━━━━━━━━━━━━━━━━━━━━━━━━━━━\u001b[0m \u001b[32m5.5/5.5 MB\u001b[0m \u001b[31m53.3 MB/s\u001b[0m eta \u001b[36m0:00:00\u001b[0m\n",
            "\u001b[?25hInstalling collected packages: numpy, tensorboard, tensorflow\n",
            "  Attempting uninstall: numpy\n",
            "    Found existing installation: numpy 1.25.2\n",
            "    Uninstalling numpy-1.25.2:\n",
            "      Successfully uninstalled numpy-1.25.2\n",
            "  Attempting uninstall: tensorboard\n",
            "    Found existing installation: tensorboard 2.17.1\n",
            "    Uninstalling tensorboard-2.17.1:\n",
            "      Successfully uninstalled tensorboard-2.17.1\n",
            "  Attempting uninstall: tensorflow\n",
            "    Found existing installation: tensorflow 2.17.1\n",
            "    Uninstalling tensorflow-2.17.1:\n",
            "      Successfully uninstalled tensorflow-2.17.1\n",
            "\u001b[31mERROR: pip's dependency resolver does not currently take into account all the packages that are installed. This behaviour is the source of the following dependency conflicts.\n",
            "arviz 0.20.0 requires pandas>=1.5.0, but you have pandas 1.3.4 which is incompatible.\n",
            "bigframes 1.27.0 requires matplotlib>=3.7.1, but you have matplotlib 3.5.0 which is incompatible.\n",
            "bigframes 1.27.0 requires pandas>=1.5.3, but you have pandas 1.3.4 which is incompatible.\n",
            "bigframes 1.27.0 requires scikit-learn>=1.2.2, but you have scikit-learn 1.0.2 which is incompatible.\n",
            "cudf-cu12 24.10.1 requires pandas<2.2.3dev0,>=2.0, but you have pandas 1.3.4 which is incompatible.\n",
            "cupy-cuda12x 12.2.0 requires numpy<1.27,>=1.20, but you have numpy 2.0.2 which is incompatible.\n",
            "gensim 4.3.3 requires numpy<2.0,>=1.18.5, but you have numpy 2.0.2 which is incompatible.\n",
            "geopandas 1.0.1 requires pandas>=1.4.0, but you have pandas 1.3.4 which is incompatible.\n",
            "ibis-framework 9.2.0 requires pandas<3,>=1.5.3, but you have pandas 1.3.4 which is incompatible.\n",
            "langchain 0.3.11 requires numpy<2,>=1.22.4; python_version < \"3.12\", but you have numpy 2.0.2 which is incompatible.\n",
            "mizani 0.13.1 requires pandas>=2.2.0, but you have pandas 1.3.4 which is incompatible.\n",
            "mlxtend 0.23.3 requires scikit-learn>=1.3.1, but you have scikit-learn 1.0.2 which is incompatible.\n",
            "plotnine 0.14.3 requires matplotlib>=3.8.0, but you have matplotlib 3.5.0 which is incompatible.\n",
            "plotnine 0.14.3 requires pandas>=2.2.0, but you have pandas 1.3.4 which is incompatible.\n",
            "pytensor 2.26.4 requires numpy<2,>=1.17.0, but you have numpy 2.0.2 which is incompatible.\n",
            "scipy 1.10.1 requires numpy<1.27.0,>=1.19.5, but you have numpy 2.0.2 which is incompatible.\n",
            "statsmodels 0.14.4 requires pandas!=2.1.0,>=1.4, but you have pandas 1.3.4 which is incompatible.\n",
            "tf-keras 2.17.0 requires tensorflow<2.18,>=2.17, but you have tensorflow 2.18.0 which is incompatible.\n",
            "thinc 8.2.5 requires numpy<2.0.0,>=1.19.0; python_version >= \"3.9\", but you have numpy 2.0.2 which is incompatible.\n",
            "xarray 2024.10.0 requires pandas>=2.1, but you have pandas 1.3.4 which is incompatible.\u001b[0m\u001b[31m\n",
            "\u001b[0mSuccessfully installed numpy-2.0.2 tensorboard-2.18.0 tensorflow-2.18.0\n"
          ]
        }
      ],
      "source": [
        "!pip install --upgrade tensorflow"
      ]
    },
    {
      "cell_type": "markdown",
      "metadata": {
        "id": "Qgi7rLI39j8-"
      },
      "source": [
        "### Importing Required Libraries\n",
        "\n",
        "_We recommend you import all required libraries in one place (here):_\n",
        "\n",
        "_You need ~1 minute to import._\n"
      ]
    },
    {
      "cell_type": "code",
      "execution_count": null,
      "metadata": {
        "colab": {
          "base_uri": "https://localhost:8080/"
        },
        "id": "5MkFw2my9j8-",
        "outputId": "9ca9b559-02f7-4e44-a3bc-b1b2e89aaec9"
      },
      "outputs": [
        {
          "output_type": "stream",
          "name": "stdout",
          "text": [
            "tensorflow version: 2.18.0\n",
            "skillsnetwork version: 0.21.9\n"
          ]
        }
      ],
      "source": [
        "import warnings\n",
        "warnings.simplefilter('ignore')\n",
        "\n",
        "import numpy as np\n",
        "import os\n",
        "import matplotlib.pyplot as plt\n",
        "import tensorflow as tf\n",
        "from tensorflow.keras import layers\n",
        "from tensorflow.keras.models import Sequential\n",
        "from tensorflow.keras.layers import Input, Conv2DTranspose, BatchNormalization, ReLU, Conv2D, LeakyReLU\n",
        "import time\n",
        "\n",
        "import keras\n",
        "from tqdm import tqdm\n",
        "from IPython import display\n",
        "import skillsnetwork\n",
        "\n",
        "print(f\"tensorflow version: {tf.__version__}\")\n",
        "print(f\"skillsnetwork version: {skillsnetwork.__version__}\")\n"
      ]
    },
    {
      "cell_type": "markdown",
      "metadata": {
        "id": "bxW-eDgQ9j8-"
      },
      "source": [
        "### Defining Helper Functions\n"
      ]
    },
    {
      "cell_type": "code",
      "execution_count": null,
      "metadata": {
        "id": "GQmsuPVg9j8-"
      },
      "outputs": [],
      "source": [
        "# Fungsi untuk memplot distribusi data\n",
        "def plot_distribution(real_data, generated_data, discriminator=None, density=True):\n",
        "    plt.hist(real_data.numpy(), 50, density=density, facecolor='g', alpha=0.75, label='real data')\n",
        "    plt.hist(generated_data.numpy(), 50, density=density, facecolor='r', alpha=0.75,label='generated data q(z)')\n",
        "\n",
        "    if discriminator:\n",
        "        max_ = np.max([int(real_data.numpy().max()), int(generated_data.numpy().max())])\n",
        "        min_ = np.min([int(real_data.numpy().min()), int(generated_data.numpy().min())])\n",
        "        x = np.linspace(min_, max_, 1000).reshape(-1, 1)\n",
        "        plt.plot(x, tf.math.sigmoid(discriminator(x, training=False).numpy()), label='discriminator', color='k')\n",
        "        plt.plot(x, 0.5 * np.ones(x.shape), label='0.5', color='b')\n",
        "        plt.xlabel('x')\n",
        "\n",
        "    plt.legend()\n",
        "    plt.show()\n",
        "\n",
        "# Fungsi untuk menampilkan gambar dalam array\n",
        "def plot_array(X, title=\"\"):\n",
        "    plt.rcParams['figure.figsize'] = (20, 20)\n",
        "\n",
        "    for i, x in enumerate(X[0:5]):\n",
        "        x = x.numpy()\n",
        "        max_ = x.max()\n",
        "        min_ = x.min()\n",
        "        xnew = np.uint8(255 * (x - min_) / (max_ - min_))\n",
        "        plt.subplot(1, 5, i + 1)\n",
        "        plt.imshow(xnew)\n",
        "        plt.axis(\"off\")\n",
        "\n",
        "    plt.show()\n"
      ]
    },
    {
      "cell_type": "markdown",
      "metadata": {
        "id": "Y8u8_hvp9j8-"
      },
      "source": [
        "----\n"
      ]
    },
    {
      "cell_type": "markdown",
      "metadata": {
        "id": "sO4MR4wp9j8-"
      },
      "source": [
        "## Basic: Generative Adversarial Networks (GANs)\n"
      ]
    },
    {
      "cell_type": "markdown",
      "metadata": {
        "id": "xTeSy_fG9j8_"
      },
      "source": [
        "### Introduction\n"
      ]
    },
    {
      "cell_type": "markdown",
      "metadata": {
        "id": "cpCMr-am9j8_"
      },
      "source": [
        "__Generative Adversarial Networks (GANs)__ are generative models that convert random samples of one distribution into another distribution. They have several applications, like the following:\n",
        "\n",
        "*  Generate Examples for Image Datasets\n",
        "*  Generate Photographs of Human Faces\n",
        "*  Generate Realistic Photographs\n",
        "*  Generate Cartoon Characters\n",
        "*  Image-to-Image Translation\n",
        "*  Text-to-Image Translation\n",
        "*  Face Frontal View Generation\n",
        "*  Generate New Human Poses\n",
        "*  Face Aging\n",
        "*  Photo Blending\n",
        "*  Super Resolution\n",
        "*  Photo Inpainting\n",
        "*  Clothing Translation\n",
        "*  Video Prediction\n",
        "\n",
        "In this GANs section of the Lab, we will use a toy example to help understand the __basic theoretical principles__ behind GANs. The original form of GANs consisted of a __discriminator__ and a __generator__; let's use the analogy of a currency forger and the police.\n",
        "\n",
        "The Generator is the currency forger, and the output is the counterfeit, for example, a 100-dollar bill. The discriminator is analogous to the police taking the counterfeit and trying to determine if it's real by comparing it to a real $100 bill. In real life, if the counterfeit is easy to detect, the forger will adapt; conversely, the police will also improve; GANs emulate this game of cat and mouse.  \n",
        "\n",
        "<center><img src=\"https://cf-courses-data.s3.us.cloud-object-storage.appdomain.cloud/IBM-GPXX0XCEEN/images/General%20diagram.png\" alt=\"generator image\" width=\"700px\"></center>\n",
        "\n",
        "What makes GANs interesting is that the __discriminator and generator continuously improve__ each other by a well-formulated cost function that backpropagates the errors. GANs are a family of algorithms that use _learning by comparison_. In the lab, we will review the original formulation and use a simulated dataset. We will also point you to some more advanced methods and issues you will encounter with the real datasets for the next lab.\n"
      ]
    },
    {
      "cell_type": "markdown",
      "metadata": {
        "id": "Q3Rtw-hJ9j8_"
      },
      "source": [
        "### Toy Data\n",
        "\n",
        "Consider the following data, $\\mathbf{x}$, that is normally distributed $\\mathbf{x} \\sim \\mathcal{N}(\\mathbf{x}|10,1) $ with a mean of 10 and a standard deviation of 1. Now we would like to randomly sample data from this distribution.\n"
      ]
    },
    {
      "cell_type": "code",
      "execution_count": null,
      "metadata": {
        "colab": {
          "base_uri": "https://localhost:8080/"
        },
        "id": "oaHTwnXY9j8_",
        "outputId": "c7358cbf-84fb-4609-e375-837ceea44cfe"
      },
      "outputs": [
        {
          "output_type": "stream",
          "name": "stdout",
          "text": [
            "mean: 9.972308\n",
            "standard deviation: 1.0042675\n"
          ]
        }
      ],
      "source": [
        "mean = [10]\n",
        "cov = [[1]]\n",
        "X = tf.random.normal((5000,1),mean=10,stddev=1.0)\n",
        "\n",
        "print(\"mean:\",np.mean(X))\n",
        "print(\"standard deviation:\",np.std(X))"
      ]
    },
    {
      "cell_type": "markdown",
      "metadata": {
        "id": "ME3k_8mr9j8_"
      },
      "source": [
        "We also have the data sample, z, which is also normally distributed $\\mathbf{z} \\sim \\mathcal{N}(\\mathbf{z}|0,2) $, with mean of 0 and a standard deviation of 2:\n",
        "\n"
      ]
    },
    {
      "cell_type": "code",
      "execution_count": null,
      "metadata": {
        "id": "TE6HMhLl9j8_"
      },
      "outputs": [],
      "source": [
        "Z = tf.random.normal((5000,1),mean=0,stddev=2)"
      ]
    },
    {
      "cell_type": "code",
      "execution_count": null,
      "metadata": {
        "colab": {
          "base_uri": "https://localhost:8080/"
        },
        "id": "8nRdxq7H9j8_",
        "outputId": "3af1a84d-e8cd-44e0-fb11-90395fd27220"
      },
      "outputs": [
        {
          "output_type": "stream",
          "name": "stdout",
          "text": [
            "mean: 0.008829478\n",
            "standard deviation: 2.01729\n"
          ]
        }
      ],
      "source": [
        "print(\"mean:\",np.mean(Z))\n",
        "print(\"standard deviation:\",np.std(Z))"
      ]
    },
    {
      "cell_type": "markdown",
      "metadata": {
        "id": "XavaQmXr9j9A"
      },
      "source": [
        "Let's compare the two distributions:\n"
      ]
    },
    {
      "cell_type": "code",
      "execution_count": null,
      "metadata": {
        "id": "SNet3AKU9j9A",
        "colab": {
          "base_uri": "https://localhost:8080/",
          "height": 430
        },
        "outputId": "36bec1f5-8afd-4c7d-f8a7-d9d82fb12287"
      },
      "outputs": [
        {
          "output_type": "display_data",
          "data": {
            "text/plain": [
              "<Figure size 640x480 with 1 Axes>"
            ],
            "image/png": "[encoded data removed]"
          },
          "metadata": {}
        }
      ],
      "source": [
        "plot_distribution(X,Z,discriminator=None,density=True)"
      ]
    },
    {
      "cell_type": "markdown",
      "metadata": {
        "id": "Q68Evqr29j9A"
      },
      "source": [
        ":Let's create our first generative model by adding 10 to every sample of $z$. We will call the result $\\hat{\\mathbf{x}}$  as it's an approximation of $\\mathbf{x}$. It is not too difficult to show that $\\hat{\\mathbf{x}} \\sim \\mathcal{N}(\\mathbf{x}|10,1)$.Xhat=Z+10\n"
      ]
    },
    {
      "cell_type": "code",
      "execution_count": null,
      "metadata": {
        "id": "RPoyk8lV9j9A"
      },
      "outputs": [],
      "source": [
        "Xhat=Z+10"
      ]
    },
    {
      "cell_type": "markdown",
      "metadata": {
        "id": "Wz1qWxlO9j9A"
      },
      "source": [
        "We see that the mean and standard deviation are almost identical\n"
      ]
    },
    {
      "cell_type": "code",
      "execution_count": null,
      "metadata": {
        "id": "KkHnDAsj9j9A",
        "colab": {
          "base_uri": "https://localhost:8080/"
        },
        "outputId": "f4024b69-abb7-45ae-92d6-8bedaadde472"
      },
      "outputs": [
        {
          "output_type": "stream",
          "name": "stdout",
          "text": [
            "mean: 10.00883\n",
            "standard deviation: 2.01729\n"
          ]
        }
      ],
      "source": [
        "print(\"mean:\",np.mean(Xhat))\n",
        "print(\"standard deviation:\",np.std(Xhat))"
      ]
    },
    {
      "cell_type": "markdown",
      "metadata": {
        "id": "XMpDqu_o9j9B"
      },
      "source": [
        "Similarly for the histograms\n"
      ]
    },
    {
      "cell_type": "code",
      "execution_count": null,
      "metadata": {
        "colab": {
          "base_uri": "https://localhost:8080/",
          "height": 430
        },
        "id": "MF9gCh2y9j9B",
        "outputId": "1219b62f-9648-4034-e3e7-0be5b4cc3618"
      },
      "outputs": [
        {
          "output_type": "display_data",
          "data": {
            "text/plain": [
              "<Figure size 640x480 with 1 Axes>"
            ],
            "image/png": "[encoded data removed]"
          },
          "metadata": {}
        }
      ],
      "source": [
        "\n",
        "plot_distribution(X,Xhat,discriminator=None,density=True)"
      ]
    },
    {
      "cell_type": "markdown",
      "metadata": {
        "id": "ytFN-VIw9j9C"
      },
      "source": [
        "In the case above, since we just add 10 to the latent variable $z$, we transform $z$ using a deterministic function. We can call this an implicit generative model.\n"
      ]
    },
    {
      "cell_type": "markdown",
      "metadata": {
        "id": "9BPcCNt79j9C"
      },
      "source": [
        "### The Generator\n"
      ]
    },
    {
      "cell_type": "markdown",
      "metadata": {
        "id": "prHhn7Yi9j9C"
      },
      "source": [
        "<img src=\"https://cf-courses-data.s3.us.cloud-object-storage.appdomain.cloud/IBM-GPXX0XCEEN/images/Unknown.png\" width=\"300px\">\n",
        "\n",
        "There are two networks involved in a GAN, the Generator and the Discriminator. Let's understand the Generator network first.\n",
        "\n",
        "The Generator is a neural network denoted by $G$; the idea is that a neural network can approximate any function (by the [Universal Approximation Theorem](https://en.wikipedia.org/wiki/Universal_approximation_theorem?utm_medium=Exinfluencer&utm_source=Exinfluencer&utm_content=000026UJ&utm_term=10006555&utm_id=NA-SkillsNetwork-Channel-SkillsNetworkGuidedProjectsIBMGPXX0XCEEN72-2022-01-01)), so you should be able to generate data samples from any type of distribution.\n",
        "\n",
        "Our goal is to convert the samples, $\\mathbf{z}$, to one that approximates $\\hat{\\mathbf{x}}$,  i.e $\\hat{\\mathbf{x}}=G(\\mathbf{z})$. Let's build a simple Generator $G(\\mathbf{z})=\\mathbf{W}^{T}\\mathbf{z}+\\mathbf{b} $ using Keras.\n",
        "\n",
        "The following is a function that outputs a generator using Kera's Sequential model object.\n"
      ]
    },
    {
      "cell_type": "code",
      "execution_count": null,
      "metadata": {
        "id": "i7-YnysT9j9C"
      },
      "outputs": [],
      "source": [
        "def make_generator_model():\n",
        "    generator = tf.keras.Sequential()\n",
        "    generator.add(layers.Dense(1))\n",
        "    return generator"
      ]
    },
    {
      "cell_type": "markdown",
      "metadata": {
        "id": "DlCIsGOn9j9C"
      },
      "source": [
        "We can use the Generator to convert $\\mathbf{z}$ and make a prediction $\\hat{\\mathbf{x}}$, and display the histogram of the distributions of $\\hat{\\mathbf{x}}$ and $\\mathbf{x}$. As the model is not trained, the trained distributions are quite different:\n"
      ]
    },
    {
      "cell_type": "code",
      "execution_count": null,
      "metadata": {
        "id": "8EBifIo39j9C",
        "colab": {
          "base_uri": "https://localhost:8080/",
          "height": 434
        },
        "outputId": "a5c23447-7033-4983-8f2d-eb7b9bdc29f7"
      },
      "outputs": [
        {
          "output_type": "display_data",
          "data": {
            "text/plain": [
              "<Figure size 640x480 with 1 Axes>"
            ],
            "image/png": "[encoded data removed]"
          },
          "metadata": {}
        }
      ],
      "source": [
        "generator=make_generator_model()\n",
        "\n",
        "Xhat = generator(Z, training=False)\n",
        "plot_distribution(real_data=X,generated_data=Xhat)"
      ]
    },
    {
      "cell_type": "markdown",
      "metadata": {
        "id": "A_Wpd_Wu9j9D"
      },
      "source": [
        "We will discuss the use of the parameter ```training=False``` later on.\n"
      ]
    },
    {
      "cell_type": "markdown",
      "metadata": {
        "id": "yX_3FYw_9j9D"
      },
      "source": [
        "### The Discriminator\n"
      ]
    },
    {
      "cell_type": "markdown",
      "metadata": {
        "id": "pcKMBxzH9j9D"
      },
      "source": [
        "<img src=\"https://cf-courses-data.s3.us.cloud-object-storage.appdomain.cloud/IBM-GPXX0XCEEN/images/Unknown1.png\" width=\"300px\">\n",
        "\n",
        "The discriminator $D(\\mathbf{x})$ is a neural network that learns to distinguish between actual and generated samples. The simplest Discriminator is a simple logistic regression function. Let's create a discriminator in Keras with one Dense layer; we leave the logistic function out as it will be incorporated in the cost function, which is the convention in Keras.\n"
      ]
    },
    {
      "cell_type": "code",
      "execution_count": null,
      "metadata": {
        "id": "erKVwmn79j9D"
      },
      "outputs": [],
      "source": [
        "def make_discriminator_model():\n",
        "    discriminator=tf.keras.Sequential()\n",
        "    discriminator.add(layers.Dense(1))\n",
        "    return discriminator\n",
        "\n",
        "discriminator=make_discriminator_model()"
      ]
    },
    {
      "cell_type": "markdown",
      "metadata": {
        "id": "8OLSphkP9j9D"
      },
      "source": [
        "The discriminator and generator are randomly initialized, but we can plot the output of each and compare it to the true data distribution, with the generated data in red and the real data in green, and the logistic function as a function of the x axis. We also include the threshold. If the output of the logistic function is less than 0.5, the sample is classified as generated data; conversely, if the output is greater than 0.5, the sample will be classified as data that came from the real distribution.\n"
      ]
    },
    {
      "cell_type": "code",
      "execution_count": null,
      "metadata": {
        "id": "e2Q9bKy_9j9D"
      },
      "outputs": [],
      "source": [
        "plot_distribution(real_data=X,generated_data=Xhat,discriminator=discriminator)"
      ]
    },
    {
      "cell_type": "markdown",
      "metadata": {
        "id": "-F2istTa9j9E"
      },
      "source": [
        "Applying the sigmoid function to the discriminator output, we get the probabilites that the samples belong to the real distribution. We can count the number of true samples that the discriminator correctly classifies.\n",
        "\n",
        "For the real data, the discriminator successfully assigns a probability greater than 0.5 for all 5000 samples:\n"
      ]
    },
    {
      "cell_type": "code",
      "execution_count": null,
      "metadata": {
        "id": "6IDC1g9k9j9E"
      },
      "outputs": [],
      "source": [
        "py_x=tf.math.sigmoid(discriminator(X,training=False))\n",
        "np.sum(py_x>0.5)"
      ]
    },
    {
      "cell_type": "markdown",
      "metadata": {
        "id": "yNPn5JS89j9E"
      },
      "source": [
        "For the generated data, only a part of the 5000 samples are classified as having more than 50% chance of coming from the real distribution.\n"
      ]
    },
    {
      "cell_type": "code",
      "execution_count": null,
      "metadata": {
        "id": "a_Lunsyb9j9E"
      },
      "outputs": [],
      "source": [
        "py_x=discriminator(Xhat)\n",
        "np.sum(py_x>0.5)"
      ]
    },
    {
      "cell_type": "markdown",
      "metadata": {
        "id": "Tdn2So1l9j9E"
      },
      "source": [
        "We can also use the following to find the average value of the sigmoid function for all the samples.  \n"
      ]
    },
    {
      "cell_type": "code",
      "execution_count": null,
      "metadata": {
        "id": "-GAQiVcD9j9E"
      },
      "outputs": [],
      "source": [
        "def get_accuracy(X,Xhat):\n",
        "    total=0\n",
        "    py_x=tf.math.sigmoid(discriminator(X,training=False))\n",
        "    total=np.mean(py_x)\n",
        "    py_x=tf.math.sigmoid(discriminator(Xhat,training=False))\n",
        "    total+=np.mean(py_x)\n",
        "    return total/2"
      ]
    },
    {
      "cell_type": "markdown",
      "metadata": {
        "id": "Lwsi8uCE9j9F"
      },
      "source": [
        "In many cases, we can instead study the difference in the distribution; in this case, the discriminator is called a <a href='https://cf-courses-data.s3.us.cloud-object-storage.appdomain.cloud/IBM-GPXX0XCEEN/papers/2107.06700.pdf'>Critic</a>, a real-valued function.\n"
      ]
    },
    {
      "cell_type": "markdown",
      "metadata": {
        "id": "d2X1dBAt9j9F"
      },
      "source": [
        "### The Loss Function GANs (Optional)\n",
        "GANs convert an unsupervised learning problem to a supervised one. Instead of formulating the problem like a two-player minimax game with a value function like in <a href=https://cf-courses-data.s3.us.cloud-object-storage.appdomain.cloud/IBM-GPXX0XCEEN/papers/1406.2661.pdf >[1]</a>, we can treat the problem of maximizing the familiar log-likelihood of the logistic function analogous to minimizing the cross-entropy loss, then incorporate the generator and discriminator.\n",
        "\n",
        "___Discriminator___\n",
        "\n",
        "In order to train the GANS, we start off with standard maximization of the likelihood for the discriminator for the standard dataset $\\mathcal{D}=\\{{(x_1, y_1), ..., (x_N, y_N)}\\}$:\n",
        "\n",
        "$$V(D)=\\sum_{n=1}^N \\left( y_n \\ln(D(\\mathbf{x}_n))+(1-y_n) \\ln(1-D(\\mathbf{x}_n))\\right)$$\n",
        "\n",
        "Where $y=1$ for samples from the true distribution and $y=0$ for samples from the generator. The goal is to maximize this term with respect to $D$:\n",
        "\n",
        "$$max_{D}(V(D))$$\n"
      ]
    },
    {
      "cell_type": "markdown",
      "metadata": {
        "id": "h17qhqpp9j9F"
      },
      "source": [
        "To also incorporate the generated samples, we augment the right side of the equation with the generated $k$th sample $\\hat{\\mathbf{x}}_k$. As they are not part of the dataset $k \\notin \\mathcal{D} $, we have to include a second summation where $y=0$. Finally, combining the cases of $y=1$ and $y=0$, we get:\n",
        "\n",
        "$$V(D)=\\sum_{ n\t\\in \\mathcal{D}}  \\ln(D(\\mathbf{x}_n))+\\sum_{k \t\\notin \\mathcal{D}} \\ln(1-D(\\hat{\\mathbf{x}}_k) ) $$\n"
      ]
    },
    {
      "cell_type": "markdown",
      "metadata": {
        "id": "JYnwxcYA9j9F"
      },
      "source": [
        "___Generator___\n",
        "\n",
        "For the generator we simply replace $\\hat{\\mathbf{x}}_k$ with the $G(\\mathbf{z}_k)$ .\n",
        "\n",
        "\n",
        "$$V(G,D)=\\sum_{n\t\\in \\mathcal{D}} \\ln(D(\\mathbf{x}_n))+\\sum_{k \t\\notin \\mathcal{D}} \\ln(1-D(G(\\mathbf{z}_k))) $$\n",
        "\n",
        "As this is a density estimation problem, it is common to replace the summation with the expected value like in <a href=https://cf-courses-data.s3.us.cloud-object-storage.appdomain.cloud/IBM-GPXX0XCEEN/papers/1406.2661.pdf >[1]</a>. We replace the summations with an expectation where $p(\\mathbf{x})$ is the true distribution and $p(\\mathbf{z})$ is the distribution of $\\mathbf{z}$.\n",
        "\n",
        "\n",
        "$$V(D,G)=\\mathbb{E}_{x\\sim p(\\mathbf{x})} \\ln(D(\\mathbf{x})) + \\mathbb{E}_{\\mathbf{z} \\sim p(\\mathbf{z})} \\ln(1-D(G(\\mathbf{z}) )) $$\n",
        "\n",
        "As we are trying to trick the discriminator, we would like to find a $G$ that minimize the above expression, such as:\n",
        "\n",
        "$$min_{G} max_{D} V(D,G)$$\n"
      ]
    },
    {
      "cell_type": "markdown",
      "metadata": {
        "id": "a9c2NHkL9j9F"
      },
      "source": [
        "### Training GANs\n",
        "\n",
        "GANs are quite difficult to train, even for a simple example. Let's start off with training the generator in practice.\n",
        "\n",
        "<img src=\"https://cf-courses-data.s3.us.cloud-object-storage.appdomain.cloud/IBM-GPXX0XCEEN/images/unknown3.jpeg\" width=\"500px\">\n",
        "\n",
        "___Training Generator___\n",
        "\n",
        "$log(1 − D(G(\\mathbf{z})))$ is difficult to work with as $D(G(\\mathbf{z}))$ is near one or zero for the first few iterations. This is because the generator is not yet properly trained, and the discriminator can easily distinguish between the generated and actual samples. Therefore we maximize $log(D(G(\\mathbf{z}_k)) )$.\n",
        "\n",
        "Although the output of the generator passes through the discriminator, we do not update the generator in the optimization step, hence we set the parameter ```training=False``` in the actual training steps.\n",
        "\n",
        "\n",
        "Instead of maximizing the term, we can take the negative and minimize it. The resultant expression can be calculated in Keras using the cross-entropy loss where all the target values are set to one:\n",
        "\n",
        "$$\\sum_{k \t\\notin \\mathcal{D}} log(1 - D(G(\\mathbf{z}_k)) )$$\n"
      ]
    },
    {
      "cell_type": "code",
      "execution_count": null,
      "metadata": {
        "id": "R5073Irh9j9F"
      },
      "outputs": [],
      "source": [
        "# This method returns a helper function to compute crossentropy loss\n",
        "cross_entropy = tf.keras.losses.BinaryCrossentropy(from_logits=True)\n",
        "def generator_loss(Xhat):\n",
        "    return cross_entropy(tf.ones_like(Xhat), Xhat)"
      ]
    },
    {
      "cell_type": "markdown",
      "metadata": {
        "id": "qAxEdIP39j9G"
      },
      "source": [
        "___Training Discriminator___\n",
        "\n",
        "We can also use the cross-entropy to train the discriminator; we simply multiply $V(G,D)$ by a negative number, set $y=0$ for the generated values and $y=1$ for the real values. We do not update the generator parameters.\n",
        "\n",
        "$$V(G)=\\sum_{n\t\\in \\mathcal{D}} (\\ln(D(\\mathbf{x}_n)))+\\sum_{k \t\\notin \\mathcal{D}} \\ln(1-D(G(\\mathbf{z}_k) )) $$\n"
      ]
    },
    {
      "cell_type": "markdown",
      "metadata": {
        "id": "_XGrbcXW9j9G"
      },
      "source": [
        "The first term is the real loss and the second is the fake loss in Keras.\n"
      ]
    },
    {
      "cell_type": "code",
      "execution_count": null,
      "metadata": {
        "id": "IbKoXhI19j9G"
      },
      "outputs": [],
      "source": [
        "def discriminator_loss(X, Xhat):\n",
        "    real_loss = cross_entropy(tf.ones_like(X), X)\n",
        "    fake_loss = cross_entropy(tf.zeros_like(Xhat), Xhat)\n",
        "    total_loss = 0.5*(real_loss + fake_loss)\n",
        "    return total_loss"
      ]
    },
    {
      "cell_type": "markdown",
      "metadata": {
        "id": "qWfQdy3K9j9G"
      },
      "source": [
        "We create the optimizer for the discriminator and generator:\n"
      ]
    },
    {
      "cell_type": "code",
      "execution_count": null,
      "metadata": {
        "id": "f9DSLY4Q9j9G"
      },
      "outputs": [],
      "source": [
        "generator_optimizer = tf.keras.optimizers.Adam(5e-1,beta_1=0.5,beta_2=0.8)\n",
        "\n",
        "discriminator_optimizer = tf.keras.optimizers.Adam(5e-1,beta_1=0.5, beta_2=0.8)"
      ]
    },
    {
      "cell_type": "markdown",
      "metadata": {
        "id": "jCb0xVVA9j9G"
      },
      "source": [
        "We now train the model; as the dataset is small, we will use batch gradient descent.\n",
        "\n",
        "For each iteration we will generate $M$ real examples $\\{\\mathbf{x}_{1}, ...,\\mathbf{x}_{M}\\}$, these are from the generating distribution $p(\\mathbf{x})$. This would be our actual dataset if we used real data.  \n",
        "\n",
        "We will then generate a sample batch of $M$ noise samples $\\{\\mathbf{z}_{1}, ...,\\mathbf{z}_{M}\\}$ from noise prior $p(\\mathbf{z})$ and convert the result to a generated image using the generator $\\{\\hat{\\mathbf{x}}_{1}, ...,\\hat{\\mathbf{x}}_{M}\\}$.\n",
        "\n",
        "We determine the output of the discriminator for both the real and generated samples. We calculate the loss and then update the discriminator and generator through their respective stochastic gradients.\n"
      ]
    },
    {
      "cell_type": "markdown",
      "metadata": {
        "id": "ySE2TAVC9j9G"
      },
      "source": [
        "The convergence of GAN training is a subject in itself. But let's explore a method that works for this simple dataset. Intuitively, we know that if our generated data is identical to our actual data, the probability of correctly classifying is random. Therefore if the generated and actual data are of equal proportion, $D(\\mathbf{x}_n)=0.5$ and $D(\\hat{\\mathbf{x}}_n)=0.5$.  \n",
        "\n",
        "We only display iterations where the average discriminator output gets closer to 50% for both the generated data and actual data.\n"
      ]
    },
    {
      "cell_type": "code",
      "execution_count": null,
      "metadata": {
        "id": "URlWqMOv9j9H"
      },
      "outputs": [],
      "source": [
        "#parameters for training\n",
        "epochs=20\n",
        "BATCH_SIZE=5000\n",
        "noise_dim=1\n",
        "epsilon=100\n",
        "\n",
        "\n",
        "#discrimator and gernerator\n",
        "tf.random.set_seed(0)\n",
        "discriminator=make_discriminator_model()\n",
        "generator=make_generator_model()\n",
        "\n",
        "tf.config.run_functions_eagerly(True)\n",
        "\n",
        "\n",
        "\n",
        "gen_loss_epoch=[]\n",
        "disc_loss_epoch=[]\n",
        "plot_distribution(real_data=X,generated_data=Xhat,discriminator=discriminator )\n",
        "print(\"epoch\",0)\n",
        "\n",
        "for epoch in tqdm(range(epochs)):\n",
        "    #data for the true distribution of your real data samples training ste\n",
        "    x = tf.random.normal((BATCH_SIZE,1),mean=10,stddev=1.0)\n",
        "    #random samples it was found if you increase the standard deviation, you get better results\n",
        "    z= tf.random.normal([BATCH_SIZE, noise_dim],mean=0,stddev=10)\n",
        "    # needed to compute the gradients for a list of variables.\n",
        "    with tf.GradientTape() as gen_tape, tf.GradientTape() as disc_tape:\n",
        "        #generated sample\n",
        "        xhat = generator(z, training=True)\n",
        "        #the output of the discriminator for real data\n",
        "        real_output = discriminator(x, training=True)\n",
        "        #the output of the discriminator  data\n",
        "        fake_output = discriminator(xhat, training=True)\n",
        "        #loss for each\n",
        "        gen_loss= generator_loss(fake_output)\n",
        "        disc_loss = discriminator_loss(real_output, fake_output)\n",
        "    # Compute the gradients for gen_loss and generator\n",
        "    gradients_of_generator = gen_tape.gradient(gen_loss, generator.trainable_variables)\n",
        "    # Compute the gradients for gen_loss and discriminator\n",
        "    gradients_of_discriminator = disc_tape.gradient(disc_loss, discriminator.trainable_variables)\n",
        "    # Ask the optimizer to apply the processed gradients\n",
        "    generator_optimizer.apply_gradients(zip(gradients_of_generator, generator.trainable_variables))\n",
        "    discriminator_optimizer.apply_gradients(zip(gradients_of_discriminator, discriminator.trainable_variables))\n",
        "\n",
        "  # Save and display the generator and discriminator if the performance increases\n",
        "    if abs(0.5-get_accuracy(x,xhat))<epsilon:\n",
        "        epsilon=abs(0.5-get_accuracy(x,xhat))\n",
        "        generator.save('generator.keras')\n",
        "        discriminator.save('discriminator.keras')\n",
        "        print(get_accuracy(x,xhat))\n",
        "        plot_distribution(real_data=X,generated_data=xhat,discriminator=discriminator )\n",
        "        print(\"epoch\",epoch)"
      ]
    },
    {
      "cell_type": "markdown",
      "metadata": {
        "id": "r9oTqAeI9j9H"
      },
      "source": [
        "For more on training GANs check out the following <a href=\"https://jonathan-hui.medium.com/gan-why-it-is-so-hard-to-train-generative-advisory-networks-819a86b3750b?utm_medium=Exinfluencer&utm_source=Exinfluencer&utm_content=000026UJ&utm_term=10006555&utm_id=NA-SkillsNetwork-Channel-SkillsNetworkGuidedProjectsIBMGPXX0XCEEN72-2022-01-01\">blog</a>. We can display the best performing model\n"
      ]
    },
    {
      "cell_type": "code",
      "execution_count": null,
      "metadata": {
        "id": "YOQxRmmg9j9H"
      },
      "outputs": [],
      "source": [
        "generator=make_generator_model()\n",
        "generator= models.load_model('generator.keras')\n",
        "xhat=generator(z)\n",
        "discriminator=models.load_model('discriminator.keras')\n",
        "plot_distribution(real_data=X,generated_data=xhat,discriminator=discriminator )"
      ]
    },
    {
      "cell_type": "markdown",
      "metadata": {
        "id": "FoMCvbTl9j9H"
      },
      "source": [
        "----\n"
      ]
    },
    {
      "cell_type": "markdown",
      "metadata": {
        "id": "Wf2KAoDq9j9H"
      },
      "source": [
        "In the content above, you learned about the working mechanics of Generative Adversarial Networks (GANs) and their various applications, such as Image Generation. However, GANs have also been known to be unstable to train, and often, the generated images suffer from being noisy and incomprehensible.\n",
        "\n",
        "For a improved result in the case example, we are applying Convolutional Neural Networks to GANS. They are called Deep Convolutional Generative Adversarial Networks (DCGANs).\n",
        "We will build and train DCGANs in the following content, using several approaches introduced in the original <a href=\"https://cf-courses-data.s3.us.cloud-object-storage.appdomain.cloud/IBM-GPXX0XCEEN/papers/1511.06434.pdf\">DCGANs paper</a>.\n",
        "\n"
      ]
    },
    {
      "cell_type": "markdown",
      "metadata": {
        "id": "he1yDDUm9j9H"
      },
      "source": [
        "----\n"
      ]
    },
    {
      "cell_type": "markdown",
      "metadata": {
        "id": "H_b6IkAm9j9H"
      },
      "source": [
        "## Deep Convolutional Generative Adversarial Networks (DCGANs)\n"
      ]
    },
    {
      "cell_type": "markdown",
      "metadata": {
        "id": "oQykrLW59j9I"
      },
      "source": [
        "### Case background\n"
      ]
    },
    {
      "cell_type": "markdown",
      "metadata": {
        "id": "gL-G76xv9j9I"
      },
      "source": [
        "In the case example, you work for an online anime video game company; the company would like to create a unique anime avatar for a game for each player. As there are millions of players, you must use a DCGANs to create each character.\n",
        "\n",
        "The proposed approaches are summarized here:\n",
        "\n",
        "- Replace any pooling layers with **strided convolutions (discriminator)** and **fractional-strided\n",
        "convolutions (generator)**.\n",
        "- Use **batchnorm** in both the generator and the discriminator.\n",
        "- **Remove fully connected hidden layers** for deeper architectures.\n",
        "- Use **ReLU** activation in generator for all layers except for the output, which uses **Tanh**.\n",
        "- Use **LeakyReLU** activation in the discriminator for all layers except for the output, which uses **Sigmoid**.\n",
        "- Use **Adam optimizer**.  \n",
        "\n",
        "These approaches will result in more stable training of deeper generative models.\n"
      ]
    },
    {
      "cell_type": "markdown",
      "metadata": {
        "id": "4g-Zsz4w9j9I"
      },
      "source": [
        "### Loading the Dataset\n",
        "\n",
        "We will mainly work with the Anime Face dataset from [Kaggle](https://www.kaggle.com/datasets/splcher/animefacedataset?utm_medium=Exinfluencer&utm_source=Exinfluencer&utm_content=000026UJ&utm_term=10006555&utm_id=NA-SkillsNetwork-Channel-SkillsNetworkGuidedProjectsIBMGPXX0XCEEN72-2022-01-01). The original dataset has 63,632 \"high-quality\" anime faces, but to make the models train faster in this lab, we randomly sampled 20,000 images and prepared a dataset called `cartoon_20000`.\n",
        "\n",
        "Let's download the smaller dataset using the Skills Network library's `prepare` function:\n"
      ]
    },
    {
      "cell_type": "code",
      "execution_count": null,
      "metadata": {
        "id": "iat3tGzw9j9I"
      },
      "outputs": [],
      "source": [
        "dataset_url=\"https://cf-courses-data.s3.us.cloud-object-storage.appdomain.cloud/IBMDeveloperSkillsNetwork-ML311-Coursera/labs/Module6/cartoon_20000.zip\"\n",
        "await skillsnetwork.prepare(dataset_url, overwrite=True)"
      ]
    },
    {
      "cell_type": "code",
      "execution_count": null,
      "metadata": {
        "id": "5oQAawRQj6uz"
      },
      "outputs": [],
      "source": [
        "from google.colab import output\n",
        "output.enable_custom_widget_manager()"
      ]
    },
    {
      "cell_type": "markdown",
      "metadata": {
        "id": "RunACde6j6u0"
      },
      "source": [
        "Support for third party widgets will remain active for the duration of the session. To disable support:"
      ]
    },
    {
      "cell_type": "code",
      "execution_count": null,
      "metadata": {
        "id": "G33C27a8j6u0"
      },
      "outputs": [],
      "source": [
        "from google.colab import output\n",
        "output.disable_custom_widget_manager()"
      ]
    },
    {
      "cell_type": "code",
      "execution_count": null,
      "metadata": {
        "id": "zWvVKQ6dCBFp"
      },
      "outputs": [],
      "source": [
        "\n",
        "from google.colab import output\n",
        "output.enable_custom_widget_manager()"
      ]
    },
    {
      "cell_type": "code",
      "execution_count": null,
      "metadata": {
        "id": "Un1zTIOQDW4e"
      },
      "outputs": [],
      "source": [
        "from google.colab import output\n",
        "output.disable_custom_widget_manager()"
      ]
    },
    {
      "cell_type": "code",
      "execution_count": null,
      "metadata": {
        "id": "ubGbr_AtDYJp"
      },
      "outputs": [],
      "source": [
        "\n",
        "from google.colab import output\n",
        "output.enable_custom_widget_manager()"
      ]
    },
    {
      "cell_type": "markdown",
      "metadata": {
        "id": "qfjtfGZoCBFq"
      },
      "source": [
        "Support for third party widgets will remain active for the duration of the session. To disable support:"
      ]
    },
    {
      "cell_type": "code",
      "execution_count": null,
      "metadata": {
        "id": "Ujf_wmKiCBFq"
      },
      "outputs": [],
      "source": [
        "from google.colab import output\n",
        "output.disable_custom_widget_manager()"
      ]
    },
    {
      "cell_type": "markdown",
      "metadata": {
        "id": "B7T-vr2z9j9I"
      },
      "source": [
        "The Anime Face or the Cartoon images are stored in the `cartoon_2000` folder in your current working directory. As a preprocessing step, we have removed any files that are not proper image formats (based on the file extensions) and any duplicate images.\n"
      ]
    },
    {
      "cell_type": "markdown",
      "metadata": {
        "id": "A94aiGN99j9I"
      },
      "source": [
        "### Creating Data Generator\n"
      ]
    },
    {
      "cell_type": "markdown",
      "metadata": {
        "id": "NAV_9tBf9j9I"
      },
      "source": [
        "First, we declare some properties of our images, including image height, image width, and batch size.\n"
      ]
    },
    {
      "cell_type": "code",
      "execution_count": null,
      "metadata": {
        "id": "jwc8hYWq9j9J"
      },
      "outputs": [],
      "source": [
        "img_height, img_width, batch_size=64,64,128"
      ]
    },
    {
      "cell_type": "markdown",
      "metadata": {
        "id": "khyyhtCa9j9J"
      },
      "source": [
        "Next, we create a Keras <code>image_dataset_from_directory</code> object with a specified image directory and the parameters are defined as above. This process may take some time:\n"
      ]
    },
    {
      "cell_type": "code",
      "execution_count": null,
      "metadata": {
        "id": "djC2M3pc9j9K"
      },
      "outputs": [],
      "source": [
        "train_ds = tf.keras.utils.image_dataset_from_directory(directory='cartoon_20000',\n",
        "                                                       image_size=(img_height, img_width),\n",
        "                                                       batch_size=batch_size,\n",
        "                                                       label_mode=None)"
      ]
    },
    {
      "cell_type": "markdown",
      "metadata": {
        "id": "OfxcOSa39j9K"
      },
      "source": [
        "The `train_ds` we defined is a `tf.data.Dataset` that yields batches of images with `image_size = (64, 64)` from the directory specified or subdirectories (if any).\n"
      ]
    },
    {
      "cell_type": "markdown",
      "metadata": {
        "id": "A4MXHhKV9j9K"
      },
      "source": [
        "**(OPTIONAL)** If you are running this notebook locally and you have multiple cores, then we can use the runtime to tune the value dynamically at runtime as follows:\n"
      ]
    },
    {
      "cell_type": "code",
      "execution_count": null,
      "metadata": {
        "id": "Y2_sRios9j9L"
      },
      "outputs": [],
      "source": [
        "#AUTOTUNE = tf.data.experimental.AUTOTUNE\n",
        "\n",
        "#train_ds = train_ds.cache().shuffle(1000).prefetch(buffer_size=AUTOTUNE)"
      ]
    },
    {
      "cell_type": "markdown",
      "metadata": {
        "id": "VdZcNH_b9j9L"
      },
      "source": [
        "We apply the Lambda function on `train_ds` to normalize the pixel values of all the input images from $[0, 255]$ to $[-1, 1]$:\n"
      ]
    },
    {
      "cell_type": "code",
      "execution_count": null,
      "metadata": {
        "id": "n4NIvZCp9j9L"
      },
      "outputs": [],
      "source": [
        "normalization_layer = layers.Rescaling(scale= 1./127.5, offset=-1)\n",
        "normalized_ds = train_ds.map(lambda x: normalization_layer(x))"
      ]
    },
    {
      "cell_type": "markdown",
      "metadata": {
        "id": "8WdR30if9j9L"
      },
      "source": [
        "Let's take one batch of images for displaying:\n"
      ]
    },
    {
      "cell_type": "code",
      "execution_count": null,
      "metadata": {
        "id": "52EEyOm49j9L"
      },
      "outputs": [],
      "source": [
        "images=train_ds.take(1)"
      ]
    },
    {
      "cell_type": "markdown",
      "metadata": {
        "id": "htl11Tlb9j9M"
      },
      "source": [
        "Convert the batch dimension to the indexes in a list:\n"
      ]
    },
    {
      "cell_type": "code",
      "execution_count": null,
      "metadata": {
        "id": "pFYaq6NW9j9M"
      },
      "outputs": [],
      "source": [
        "X=[x for x in images]"
      ]
    },
    {
      "cell_type": "markdown",
      "metadata": {
        "id": "BtOFUFQh9j9M"
      },
      "source": [
        "We can then plot the first five images in the batch using the function   ```plot_array```:\n"
      ]
    },
    {
      "cell_type": "code",
      "execution_count": null,
      "metadata": {
        "id": "hkqKN2TQ9j9M"
      },
      "outputs": [],
      "source": [
        "plot_array(X[0])"
      ]
    },
    {
      "cell_type": "markdown",
      "metadata": {
        "id": "lqF4F1oQ9j9M"
      },
      "source": [
        "###  Generator and Discriminator (for DCGANs)\n"
      ]
    },
    {
      "cell_type": "markdown",
      "metadata": {
        "id": "s2aGAjUC9j9M"
      },
      "source": [
        "___Building the Generator___\n"
      ]
    },
    {
      "cell_type": "markdown",
      "metadata": {
        "id": "5VP_qN1a9j9M"
      },
      "source": [
        "The Generator is comprised of several layers of transposed convolution, the opposite of convolution operations.\n",
        "\n",
        "- Each Conv2DTranspose layer (except the final layer) is followed by a Batch Normalization layer and a **Relu activation**; for more implementation details, check out <a href=\"https://cf-courses-data.s3.us.cloud-object-storage.appdomain.cloud/IBM-GPXX0XCEEN/papers/1511.06434.pdf\">[2]</a>.\n",
        "- The final transpose convolution layer has three output channels since the output needs to be a color image. We use the **Tanh activation** in the final layer.\n",
        "\n",
        "See the illustration of the architecture from <a href=\"https://cf-courses-data.s3.us.cloud-object-storage.appdomain.cloud/IBM-GPXX0XCEEN/papers/1511.06434.pdf\">[2]</a> below.\n",
        "\n",
        "<center><img src=\"https://cf-courses-data.s3.us.cloud-object-storage.appdomain.cloud/IBM-GPXX0XCEEN/images/generator.png\" alt=\"generator image\" width=\"80%\"></center>\n",
        "\n",
        "\n",
        "We build the Generator network by using the parameter values from <a href=\"https://learnopencv.com/deep-convolutional-gan-in-pytorch-and-tensorflow/?utm_medium=Exinfluencer&utm_source=Exinfluencer&utm_content=000026UJ&utm_term=10006555&utm_id=NA-SkillsNetwork-Channel-SkillsNetworkGuidedProjectsIBMGPXX0XCEEN72-2022-01-01\" >[3]<a>.\n"
      ]
    },
    {
      "cell_type": "code",
      "execution_count": null,
      "metadata": {
        "id": "vXOatyTu9j9N"
      },
      "outputs": [],
      "source": [
        "from tensorflow.keras import Model\n",
        "\n",
        "def make_generator():\n",
        "    # Create input layer explicitly\n",
        "    inputs = Input(shape=(1, 1, 100), name='input_layer')\n",
        "\n",
        "    # Block 1: input is latent vector -> 4x4x512\n",
        "    x = Conv2DTranspose(64 * 8, kernel_size=4, strides=4, padding='same',\n",
        "                       kernel_initializer=tf.keras.initializers.RandomNormal(mean=0.0, stddev=0.02),\n",
        "                       use_bias=False, name='conv_transpose_1')(inputs)\n",
        "    x = BatchNormalization(momentum=0.1, epsilon=0.8, center=1.0, scale=0.02, name='bn_1')(x)\n",
        "    x = ReLU(name='relu_1')(x)\n",
        "\n",
        "    # Block 2: 4x4x512 -> 8x8x256\n",
        "    x = Conv2DTranspose(64 * 4, kernel_size=4, strides=2, padding='same',\n",
        "                       kernel_initializer=tf.keras.initializers.RandomNormal(mean=0.0, stddev=0.02),\n",
        "                       use_bias=False, name='conv_transpose_2')(x)\n",
        "    x = BatchNormalization(momentum=0.1, epsilon=0.8, center=1.0, scale=0.02, name='bn_2')(x)\n",
        "    x = ReLU(name='relu_2')(x)\n",
        "\n",
        "    # Block 3: 8x8x256 -> 16x16x128\n",
        "    x = Conv2DTranspose(64 * 2, kernel_size=4, strides=2, padding='same',\n",
        "                       kernel_initializer=tf.keras.initializers.RandomNormal(mean=0.0, stddev=0.02),\n",
        "                       use_bias=False, name='conv_transpose_3')(x)\n",
        "    x = BatchNormalization(momentum=0.1, epsilon=0.8, center=1.0, scale=0.02, name='bn_3')(x)\n",
        "    x = ReLU(name='relu_3')(x)\n",
        "\n",
        "    # Block 4: 16x16x128 -> 32x32x64\n",
        "    x = Conv2DTranspose(64 * 1, kernel_size=4, strides=2, padding='same',\n",
        "                       kernel_initializer=tf.keras.initializers.RandomNormal(mean=0.0, stddev=0.02),\n",
        "                       use_bias=False, name='conv_transpose_4')(x)\n",
        "    x = BatchNormalization(momentum=0.1, epsilon=0.8, center=1.0, scale=0.02, name='bn_4')(x)\n",
        "    x = ReLU(name='relu_4')(x)\n",
        "\n",
        "    # Final Block: 32x32x64 -> 64x64x3\n",
        "    outputs = Conv2DTranspose(3, kernel_size=4, strides=2, padding='same',\n",
        "                            kernel_initializer=tf.keras.initializers.RandomNormal(mean=0.0, stddev=0.02),\n",
        "                            use_bias=False, activation='tanh',\n",
        "                            name='conv_transpose_5')(x)\n",
        "\n",
        "    # Create model using functional API\n",
        "    model = Model(inputs=inputs, outputs=outputs, name='generator')\n",
        "\n",
        "    return model"
      ]
    },
    {
      "cell_type": "markdown",
      "metadata": {
        "id": "gyh6nvPa9j9N"
      },
      "source": [
        "By printing the summary of the Generator architecture, we can see that the transposed convolutions **upsample** a 100-dim input vector to a high-dimensional image of size 64 x 64 x 3.\n"
      ]
    },
    {
      "cell_type": "code",
      "execution_count": null,
      "metadata": {
        "id": "HsOlMga19j9N"
      },
      "outputs": [],
      "source": [
        "gen = make_generator()\n",
        "gen.summary()"
      ]
    },
    {
      "cell_type": "markdown",
      "metadata": {
        "id": "IRnLNMpy9j9N"
      },
      "source": [
        "___Building the Discriminator___\n"
      ]
    },
    {
      "cell_type": "markdown",
      "metadata": {
        "id": "gRyK-IU09j9N"
      },
      "source": [
        "The Discriminator has five convolution layers.\n",
        "\n",
        "- All but the first and final Conv2D layers have Batch Normalization, since directly applying batchnorm to all layers could result in sample oscillation and model instability;\n",
        "- The first four Conv2D layers use the **Leaky-Relu activation** with a slope of 0.2.\n",
        "- Lastly, instead of a fully connected layer, the  output layer has a convolution layer with a **Sigmoid activation** function.\n"
      ]
    },
    {
      "cell_type": "code",
      "execution_count": null,
      "metadata": {
        "id": "htOA49Cm9j9N"
      },
      "outputs": [],
      "source": [
        "def make_discriminator():\n",
        "\n",
        "    model=Sequential()\n",
        "\n",
        "    # Block 1: input is 64 x 64 x (3)\n",
        "    model.add(Input(shape=(64, 64, 3), name='input_layer'))\n",
        "    model.add(Conv2D(64, kernel_size=4, strides= 2, padding='same', kernel_initializer=tf.keras.initializers.RandomNormal(mean=0.0, stddev=0.02), use_bias=False, name='conv_1'))\n",
        "    model.add(LeakyReLU(0.2, name='leaky_relu_1'))\n",
        "\n",
        "    # Block 2: input is 32 x 32 x (64)\n",
        "    model.add(Conv2D(64 * 2, kernel_size=4, strides= 2, padding='same', kernel_initializer=tf.keras.initializers.RandomNormal(mean=0.0, stddev=0.02), use_bias=False, name='conv_2'))\n",
        "    model.add(BatchNormalization(momentum=0.1,  epsilon=0.8, center=1.0, scale=0.02, name='bn_1'))\n",
        "    model.add(LeakyReLU(0.2, name='leaky_relu_2'))\n",
        "\n",
        "    # Block 3\n",
        "    model.add(Conv2D(64 * 4, 4, 2, padding='same', kernel_initializer=tf.keras.initializers.RandomNormal(mean=0.0, stddev=0.02), use_bias=False, name='conv_3'))\n",
        "    model.add(BatchNormalization(momentum=0.1,  epsilon=0.8, center=1.0, scale=0.02, name='bn_2'))\n",
        "    model.add(LeakyReLU(0.2, name='leaky_relu_3'))\n",
        "\n",
        "\n",
        "    #Block 4\n",
        "    model.add(Conv2D(64 * 8, 4, 2, padding='same', kernel_initializer=tf.keras.initializers.RandomNormal(mean=0.0, stddev=0.02), use_bias=False, name='conv_4'))\n",
        "    model.add(BatchNormalization(momentum=0.1,  epsilon=0.8, center=1.0, scale=0.02, name='bn_3'))\n",
        "    model.add(LeakyReLU(0.2, name='leaky_relu_4'))\n",
        "\n",
        "\n",
        "    #Block 5\n",
        "    model.add(Conv2D(1, 4, 2,padding='same', kernel_initializer=tf.keras.initializers.RandomNormal(mean=0.0, stddev=0.02), use_bias=False,\n",
        "                     activation='sigmoid', name='conv_5'))\n",
        "\n",
        "    return model"
      ]
    },
    {
      "cell_type": "markdown",
      "metadata": {
        "id": "e6x6fjSX9j9N"
      },
      "source": [
        "By printing the summary of the Discriminator architecture, we can see that the strided convolutions **downsample** an input image of size 64 x 64 x 3.\n"
      ]
    },
    {
      "cell_type": "code",
      "execution_count": null,
      "metadata": {
        "id": "vw6tTZOq9j9O"
      },
      "outputs": [],
      "source": [
        "disc = make_discriminator()\n",
        "disc.summary()"
      ]
    },
    {
      "cell_type": "markdown",
      "metadata": {
        "id": "jwFrACuI9j9O"
      },
      "source": [
        "### Defining Loss Functions\n",
        "\n",
        "As we discussed in the previous section, the min-max optimization problem can be formulated by minimizing the cross entropy loss for the Generator and Discriminator.  \n",
        "\n",
        "The `cross_entropy` object is the Binary Cross Entropy loss that will be used to model the objectives of the two networks.\n"
      ]
    },
    {
      "cell_type": "code",
      "execution_count": null,
      "metadata": {
        "id": "ZV-KZE9a9j9O"
      },
      "outputs": [],
      "source": [
        "cross_entropy = tf.keras.losses.BinaryCrossentropy(from_logits=True)"
      ]
    },
    {
      "cell_type": "code",
      "execution_count": null,
      "metadata": {
        "id": "5iJWBrdU9j9O"
      },
      "outputs": [],
      "source": [
        "def generator_loss(Xhat):\n",
        "    return cross_entropy(tf.ones_like(Xhat), Xhat)"
      ]
    },
    {
      "cell_type": "code",
      "execution_count": null,
      "metadata": {
        "id": "khMduOKY9j9O"
      },
      "outputs": [],
      "source": [
        "def discriminator_loss(X, Xhat):\n",
        "    real_loss = cross_entropy(tf.ones_like(X), X)\n",
        "    fake_loss = cross_entropy(tf.zeros_like(Xhat), Xhat)\n",
        "    total_loss = 0.5*(real_loss + fake_loss)\n",
        "    return total_loss"
      ]
    },
    {
      "cell_type": "markdown",
      "metadata": {
        "id": "wW84r6ye9j9O"
      },
      "source": [
        "### Defining Optimizers\n",
        "\n",
        "We create two Adam optimizers for the discriminator and the generator, respectively. We pass the following arguments to the optimizers:\n",
        "\n",
        "- learning rate of 0.0002.\n",
        "- beta coefficients $\\beta_1 = 0.5$ and $\\beta_2 = 0.999$, which are responsible for computing the running averages of the gradients during backpropagation.\n"
      ]
    },
    {
      "cell_type": "code",
      "execution_count": null,
      "metadata": {
        "id": "ElT6CCUy9j9O"
      },
      "outputs": [],
      "source": [
        "\n",
        "learning_rate = 0.0002\n",
        "\n",
        "generator_optimizer = tf.keras.optimizers.Adam(learning_rate = 0.0002, beta_1 = 0.5, beta_2 = 0.999 )\n",
        "\n",
        "discriminator_optimizer = tf.keras.optimizers.Adam(learning_rate = 0.0002, beta_1 = 0.5, beta_2 = 0.999 )"
      ]
    },
    {
      "cell_type": "markdown",
      "metadata": {
        "id": "cB604ohX9j9P"
      },
      "source": [
        "### Create Train Step Function\n",
        "\n",
        "As this lab is more computationally intensive than the last lab, we convert the training step into a function and then use the  @tf.function decorator, which allows the function to be \"compiled\" into a **callable TensorFlow graph**. This will speed up the training; for more information, read <a href=\"https://www.tensorflow.org/guide/function?utm_medium=Exinfluencer&utm_source=Exinfluencer&utm_content=000026UJ&utm_term=10006555&utm_id=NA-SkillsNetwork-Channel-SkillsNetworkGuidedProjectsIBMGPXX0XCEEN72-2022-01-01\">here </a>\n"
      ]
    },
    {
      "cell_type": "code",
      "execution_count": null,
      "metadata": {
        "id": "S2AZebKM9j9P"
      },
      "outputs": [],
      "source": [
        "@tf.function\n",
        "\n",
        "def train_step(X):\n",
        "\n",
        "    #random samples it was found if you increase the  stander deviation, you get better results\n",
        "    z= tf.random.normal([BATCH_SIZE, 1, 1, latent_dim])\n",
        "      # needed to compute the gradients for a list of variables.\n",
        "    with tf.GradientTape() as gen_tape, tf.GradientTape() as disc_tape:\n",
        "        #generated sample\n",
        "        xhat = generator(z, training=True)\n",
        "        #the output of the discriminator for real data\n",
        "        real_output = discriminator(X, training=True)\n",
        "        #the output of the discriminator for fake data\n",
        "        fake_output = discriminator(xhat, training=True)\n",
        "\n",
        "        #loss for each\n",
        "        gen_loss= generator_loss(fake_output)\n",
        "        disc_loss = discriminator_loss(real_output, fake_output)\n",
        "      # Compute the gradients for gen_loss and generator\n",
        "\n",
        "    gradients_of_generator = gen_tape.gradient(gen_loss, generator.trainable_variables)\n",
        "    # Compute the gradients for gen_loss and discriminator\n",
        "    gradients_of_discriminator = disc_tape.gradient(disc_loss, discriminator.trainable_variables)\n",
        "    # Ask the optimizer to apply the processed gradients\n",
        "    generator_optimizer.apply_gradients(zip(gradients_of_generator, generator.trainable_variables))\n",
        "    discriminator_optimizer.apply_gradients(zip(gradients_of_discriminator, discriminator.trainable_variables))"
      ]
    },
    {
      "cell_type": "markdown",
      "metadata": {
        "id": "oOC2-fV29j9P"
      },
      "source": [
        "Don't be intimidated by the code above, here is a summary of what a train step accomplishes:\n",
        "\n",
        "- First, we sample `z`, a batch of noise vectors from a normal distribution ($\\mu = 1, \\sigma = 1$) and feed it to the Generator.\n",
        "- The Generator produces generated or \"fake\" images `xhat`.\n",
        "- We feed real images `X` and fake images `xhat` to the Discriminator and obtain `real_output` and `fake_output` respectively as the scores.\n",
        "- We calculate Generator loss `gen_loss` using the `fake_output` from Discriminator since we want the fake images to fool the Discriminator as much as possible.\n",
        "- We calculate Discriminator loss `disc_loss` using both the `real_output` and `fake_output` since we want the Discriminator to distinguish the two as much as possible.\n",
        "- We calculate `gradients_of_generator` and  `gradients_of_discriminator` based on the losses obtained.\n",
        "- Finally, we update the Generator and Discriminator by letting their respective optimizers apply the processed gradients on the trainable model parameters.\n"
      ]
    },
    {
      "cell_type": "markdown",
      "metadata": {
        "id": "eoTrdxkv9j9P"
      },
      "source": [
        "We can transform the random noise using the generator. As the generator is not trained yet, the output appears to be noises:\n"
      ]
    },
    {
      "cell_type": "code",
      "execution_count": null,
      "metadata": {
        "id": "8XhEbY3b9j9P"
      },
      "outputs": [],
      "source": [
        "generator= make_generator()\n",
        "BATCH_SIZE=128\n",
        "\n",
        "latent_dim=100\n",
        "noise = tf.random.normal([BATCH_SIZE, 1, 1, latent_dim])\n",
        "Xhat=generator(noise,training=False)\n",
        "plot_array(Xhat)"
      ]
    },
    {
      "cell_type": "markdown",
      "metadata": {
        "id": "W7B6iETk9j9P"
      },
      "source": [
        "### Training DCGANs\n"
      ]
    },
    {
      "cell_type": "markdown",
      "metadata": {
        "id": "i0hKaAHU9j9Q"
      },
      "source": [
        "As this method is computationally intensive, we will train the model for one epoch and then use the generator to produce artificial images.\n",
        "\n",
        "__Even 1 epoch in DCGANs training takes long time.__ You can __stop the training__ here and import the pre-trained model following the instruction below.\n"
      ]
    },
    {
      "cell_type": "code",
      "execution_count": null,
      "metadata": {
        "id": "YDIct_xl9j9Q"
      },
      "outputs": [],
      "source": [
        "epochs=1\n",
        "\n",
        "discriminator=make_discriminator()\n",
        "\n",
        "generator= make_generator()\n",
        "\n",
        "\n",
        "for epoch in range(epochs):\n",
        "\n",
        "    #data for the true distribution of your real data samples training ste\n",
        "    start = time.time()\n",
        "    i=0\n",
        "    for X in tqdm(normalized_ds, desc=f\"epoch {epoch+1}\", total=len(normalized_ds)):\n",
        "\n",
        "        i+=1\n",
        "        if i%1000:\n",
        "            print(\"epoch {}, iteration {}\".format(epoch+1, i))\n",
        "\n",
        "        train_step(X)\n",
        "\n",
        "\n",
        "    noise = tf.random.normal([BATCH_SIZE, 1, 1, latent_dim])\n",
        "    Xhat=generator(noise,training=False)\n",
        "    X=[x for x in normalized_ds]\n",
        "    print(\"orignal images\")\n",
        "    plot_array(X[0])\n",
        "    print(\"generated images\")\n",
        "    plot_array(Xhat)\n",
        "    print ('Time for epoch {} is {} sec'.format(epoch + 1, time.time()-start))"
      ]
    },
    {
      "cell_type": "markdown",
      "metadata": {
        "id": "JOW8lWTc9j9Q"
      },
      "source": [
        "As you can see that, with only one epoch of training and a reduced number of training images, our GAN didn't learn much information, and thus, the generator wasn't able to produce images that make sense to human eyes. There are two quick actions you can take to try to improve the results:\n",
        "\n",
        "1. Re-train the GAN using the full dataset that has 63,632 images.\n",
        "    - To do so, simply go back to the **Loading the Dataset** section in **DCGANs**, replace the url of the dataset with \"https://cf-courses-data.s3.us.cloud-object-storage.appdomain.cloud/IBMDeveloperSkillsNetwork-ML311-Coursera/labs/Module5/L2/cartoon_data.tgz\", change the `directory` argument in `tf.keras.utils.image_dataset_from_directory` to `'cartoon_data'` in **Creating data generator** section and re-run all the cells.\n",
        "    - Note that using more training data does allows the model to learn better and perform better, but it will result in longer training time! **With 63K training images and batch size of 128, your model will train for ~497 iterations.**\n",
        "\n",
        "\n",
        "2. Use a pre-trained generator model to generate images.\n",
        "    - You don't need to experience the training time at all!\n",
        "    - Proceed to the next subsection to load a pre-trained model, and you will see that the generator trained with 150 epochs can produce almost realistic anime faces.\n"
      ]
    },
    {
      "cell_type": "markdown",
      "metadata": {
        "id": "mW56oDbt9j9Q"
      },
      "source": [
        "___Loading Pre-trained model (150 epochs)___\n"
      ]
    },
    {
      "cell_type": "markdown",
      "metadata": {
        "id": "XtLSaxI19j9Q"
      },
      "source": [
        "As you saw, training a GAN with only one epoch takes quite a long time. If we want to evaluate the performance of a fully trained and optimized GAN, we would need to increase the number of epochs.\n",
        "Thus, to help you **avoid extremely long training time** in this lab, we will just **download the pre-trained Generator network parameters** and then use Kera `load_model` function to obtain a **pre-trained Generator**, which we will use to generate images directly.\n"
      ]
    },
    {
      "cell_type": "code",
      "execution_count": null,
      "metadata": {
        "id": "nDnCIXMT9j9Q"
      },
      "outputs": [],
      "source": [
        "generator_url=\"https://cf-courses-data.s3.us.cloud-object-storage.appdomain.cloud/IBM-GPXX0XCEEN/data/generator.tar\"\n",
        "await skillsnetwork.prepare(generator_url, overwrite=True)"
      ]
    },
    {
      "cell_type": "code",
      "execution_count": null,
      "metadata": {
        "id": "Uf4AtcqIkjSB"
      },
      "outputs": [],
      "source": [
        "from google.colab import output\n",
        "output.enable_custom_widget_manager()"
      ]
    },
    {
      "cell_type": "markdown",
      "metadata": {
        "id": "UTtIs_2SkjSC"
      },
      "source": [
        "Support for third party widgets will remain active for the duration of the session. To disable support:"
      ]
    },
    {
      "cell_type": "code",
      "execution_count": null,
      "metadata": {
        "id": "_bdd9NlfkjSC"
      },
      "outputs": [],
      "source": [
        "from google.colab import output\n",
        "output.disable_custom_widget_manager()"
      ]
    },
    {
      "cell_type": "markdown",
      "metadata": {
        "id": "wC1fDB1JkiW1"
      },
      "source": [
        "Support for third party widgets will remain active for the duration of the session. To disable support:"
      ]
    },
    {
      "cell_type": "code",
      "execution_count": null,
      "metadata": {
        "id": "QeynltuwkiW2"
      },
      "outputs": [],
      "source": [
        "from google.colab import output\n",
        "output.enable_custom_widget_manager()"
      ]
    },
    {
      "cell_type": "markdown",
      "metadata": {
        "id": "LsLogOQekhrF"
      },
      "source": [
        "Support for third party widgets will remain active for the duration of the session. To disable support:"
      ]
    },
    {
      "cell_type": "code",
      "execution_count": null,
      "metadata": {
        "id": "MrcErhgUkhrG"
      },
      "outputs": [],
      "source": [
        "from google.colab import output\n",
        "output.disable_custom_widget_manager()"
      ]
    },
    {
      "cell_type": "markdown",
      "metadata": {
        "id": "KFazJLaNkbDg"
      },
      "source": [
        "Support for third party widgets will remain active for the duration of the session. To disable support:"
      ]
    },
    {
      "cell_type": "code",
      "execution_count": null,
      "metadata": {
        "id": "8Aq79gELkyUz"
      },
      "outputs": [],
      "source": [
        "from google.colab import output\n",
        "output.enable_custom_widget_manager()"
      ]
    },
    {
      "cell_type": "code",
      "execution_count": null,
      "metadata": {
        "id": "B9S2-EZykbDh"
      },
      "outputs": [],
      "source": [
        "from google.colab import output\n",
        "output.disable_custom_widget_manager()"
      ]
    },
    {
      "cell_type": "markdown",
      "metadata": {
        "id": "_2G6ATHgkal_"
      },
      "source": [
        "Support for third party widgets will remain active for the duration of the session. To disable support:"
      ]
    },
    {
      "cell_type": "markdown",
      "metadata": {
        "id": "t9zJyhhW9j9Q"
      },
      "source": [
        "Load the generator:\n"
      ]
    },
    {
      "cell_type": "code",
      "execution_count": null,
      "metadata": {
        "id": "qNTSiIxz9j9R"
      },
      "outputs": [],
      "source": [
        "from tensorflow.keras.models import load_model\n",
        "\n",
        "\n",
        "full_generator=load_model(\"generator.keras\")"
      ]
    },
    {
      "cell_type": "markdown",
      "metadata": {
        "id": "AljB7UhL9j9R"
      },
      "source": [
        "Let's generate several images using the fully trained Generator and display them:\n"
      ]
    },
    {
      "cell_type": "code",
      "execution_count": null,
      "metadata": {
        "id": "Q7Gl1Nw-9j9R"
      },
      "outputs": [],
      "source": [
        "# Create noise\n",
        "latent_dim = 100\n",
        "noise = tf.random.normal([200, 1, 1, latent_dim])\n",
        "\n",
        "# Use the new generator 'gen' instead of 'full_generator'\n",
        "Xhat = gen(noise, training=False)  # Use 'gen' here, not 'full_generator'\n",
        "plot_array(Xhat)"
      ]
    },
    {
      "cell_type": "markdown",
      "metadata": {
        "id": "bU3rXoF-9j9R"
      },
      "source": [
        "## Explore Latent Variables\n",
        "\n",
        "Values of $\\mathbf{z}$ that are relatively close together will produce similar images. For example, we can assigns elements of $\\mathbf{z}$ close values such as $[1,0.8,..,0.4]$.\n"
      ]
    },
    {
      "cell_type": "code",
      "execution_count": null,
      "metadata": {
        "id": "9OProCsq9j9R"
      },
      "outputs": [],
      "source": [
        "for c in [1,0.8,0.6,0.4]:\n",
        "    Xhat=gen(c*tf.ones([1, 1, 1, latent_dim]),training=False) # latent_dim = 100 defined previously\n",
        "    plot_array(Xhat)"
      ]
    },
    {
      "cell_type": "markdown",
      "metadata": {
        "id": "hdJSJXYz9j9R"
      },
      "source": [
        "### Exercise 1\n",
        "\n",
        "Plot the generated images by the Generator with elements of $\\mathbf{z}$ equal $[-1,-0.8,-0.6,-0.4]$.\n"
      ]
    },
    {
      "cell_type": "code",
      "execution_count": null,
      "metadata": {
        "id": "xChWsATb9j9S"
      },
      "outputs": [],
      "source": [
        "import tensorflow as tf\n",
        "\n",
        "for c in [1, 0.8, 0.6, 0.4]:\n",
        "    # Create noise with the desired shape (5000, 1) directly\n",
        "    noise = -c * tf.ones([5000, 1])\n",
        "\n",
        "    # OR, if you need to start with a (1, 1, 1, latent_dim) shape and then reshape:\n",
        "    # 1. Create initial noise\n",
        "    # initial_noise = -c * tf.ones([1, 1, 1, latent_dim])\n",
        "    # 2. Repeat the initial noise along a new dimension to reach 5000 elements\n",
        "    # noise = tf.repeat(initial_noise, repeats=[500"
      ]
    },
    {
      "cell_type": "markdown",
      "metadata": {
        "id": "owxab62B9j9S"
      },
      "source": [
        "<details>\n",
        "    <summary>Click here for Solution</summary>\n",
        "\n",
        "```python\n",
        "for c in [1,0.8,0.6,0.4]:\n",
        "    Xhat=full_generator(-c*tf.ones([1, 1, 1, latent_dim]),training=False)\n",
        "    plot_array(Xhat)\n",
        " ```   \n",
        "\n",
        "</details>\n"
      ]
    },
    {
      "cell_type": "markdown",
      "metadata": {
        "id": "vD-Sa0Ca9j9S"
      },
      "source": [
        "We can see how changing the latent variable changes the generated image. Here we alter more and more subsequent values of $\\mathbf{z}$ from 1 to -1; we see the images change accordingly; this is evident in the anime character's hair color:\n"
      ]
    },
    {
      "cell_type": "code",
      "execution_count": null,
      "metadata": {
        "id": "wcuDatR39j9S"
      },
      "outputs": [],
      "source": [
        "import numpy as np\n",
        "import tensorflow as tf\n",
        "\n",
        "z = np.ones((1, 1, 1, latent_dim))\n",
        "for n in range(10):\n",
        "    z[0, 0, 0, 0:10 * n] = -1\n",
        "\n",
        "    # Reshape z to (1, 1, 1, latent_dim) before passing to the generator\n",
        "    # The original shape of z is (1, 1, 1, latent_dim)\n",
        "    # This line reshapes it to (1, 1, 1"
      ]
    },
    {
      "cell_type": "markdown",
      "metadata": {
        "id": "VjrvnIeU9j9S"
      },
      "source": [
        "### Exercise 2\n",
        "\n",
        "Repeat the above procedure but set the latent variable $z[0, 0, 0, 0:20*n] = -0.5*n$ each time `for n in range(5)`\n"
      ]
    },
    {
      "cell_type": "code",
      "execution_count": null,
      "metadata": {
        "id": "W_CVQ0ou9j9T"
      },
      "outputs": [],
      "source": [
        "import numpy as np\n",
        "import tensorflow as tf\n",
        "\n",
        "z = np.ones((1, 1, 1, latent_dim))\n",
        "for n in range(10):\n",
        "   z[0, 0, 0, 0:20*n]=-0.5*n\n",
        "\n",
        "    # Reshape z to (1, 1, 1, latent_dim) before passing to the generator\n",
        "    # The original shape of z is (1, 1, 1, latent_dim)\n",
        "    # This line reshapes it to (1, 1, 1"
      ]
    },
    {
      "cell_type": "markdown",
      "metadata": {
        "id": "_ti0h-0E9j9T"
      },
      "source": [
        "<details>\n",
        "    <summary>Click here for Solution</summary>\n",
        "\n",
        "```python\n",
        "z=np.ones( (1, 1, 1, latent_dim))\n",
        "for n in range(5):\n",
        "\n",
        "    z[0, 0, 0, 0:20*n]=-0.5*n\n",
        "\n",
        "    Xhat=full_generator(z,training=False)\n",
        "\n",
        "    plot_array(Xhat)\n",
        "    \n",
        "\n",
        " ```   \n",
        "\n",
        "</details>\n"
      ]
    },
    {
      "cell_type": "markdown",
      "metadata": {
        "id": "WVS8c7Gc9j9T"
      },
      "source": [
        "We can also hold some of the elements of $\\mathbf{z}$ constant and randomly change others. Here, we set the first 20 elements to one and randomly change the rest. We see that all through the images change, the hair color remains light.\n"
      ]
    },
    {
      "cell_type": "code",
      "execution_count": null,
      "metadata": {
        "id": "8cP4Lrs_9j9T"
      },
      "outputs": [],
      "source": [
        "for n in range(10):\n",
        "    # Create a latent vector with shape (1, latent_dim)\n",
        "    z = np.random.normal(0, 1, (1, latent_dim))\n",
        "\n",
        "    # Reshape z to (1, 1) before passing to the generator\n",
        "    # The error indicates that the model expects input shape (None, 1)\n",
        "    # and you are providing (1, 100) - Reshape to match.\n",
        "    z = z.reshape(1, 1)\n",
        "\n",
        "    Xhat = full_generator(z, training=False)\n",
        "\n",
        "    # Reshape Xhat to the expected image dimensions\n",
        "    image_shape = (28, 28)  # Replace with the actual image dimensions\n",
        "    # The output of the generator might have more dimensions.\n",
        "    # Assuming the output shape is (1, 28, 28, 1), adjust as needed:\n",
        "    Xhat_reshaped = Xhat.numpy().reshape(image_shape)\n",
        "\n",
        "    plot_array(Xhat_reshaped)"
      ]
    },
    {
      "cell_type": "code",
      "execution_count": null,
      "metadata": {
        "id": "sZ6UBifMieb_"
      },
      "outputs": [],
      "source": []
    },
    {
      "cell_type": "markdown",
      "metadata": {
        "id": "WmGJ8lUW9j9T"
      },
      "source": [
        "### Exercise 3\n",
        "\n",
        "Repeat the procedure above, but set the elements of $\\mathbf{z}$ from index 0 to 35 to -1\n"
      ]
    },
    {
      "cell_type": "code",
      "execution_count": null,
      "metadata": {
        "id": "mDtleTnl9j9T"
      },
      "outputs": [],
      "source": [
        "for n in range(10):\n",
        "    # Create a latent vector with shape (1, latent_dim)\n",
        "    z = np.random.normal(0, 1, (1, latent_dim))\n",
        "\n",
        "    # Modify the first 35 elements of the latent vector\n",
        "    z[0, 0:35] = -1\n",
        "\n",
        "    # Pass the correctly shaped latent vector to the generator\n",
        "    Xhat = full_generator(z, training=False)\n",
        "\n",
        "    # Reshape Xhat to the expected image dimensions\n",
        "    image_shape = (28, 28)  # Replace with the actual image dimensions\n",
        "    # The output of the generator might have more dimensions.\n",
        "    # Assuming the output shape is (1, 28, 28, 1), adjust as needed:\n",
        "    Xhat_reshaped = Xhat.numpy().reshape(image_shape)\n",
        "\n",
        "    plot_array(Xhat_reshaped)"
      ]
    },
    {
      "cell_type": "markdown",
      "metadata": {
        "id": "Au0CQ6Tr9j9U"
      },
      "source": [
        "<details>\n",
        "    <summary>Click here for Solution</summary>\n",
        "\n",
        "```python\n",
        "\n",
        "for n in range(10):\n",
        "    z=np.random.normal(0, 1, (1, 1, 1, latent_dim))\n",
        "\n",
        "    z[0,0,0,0:35]=-1\n",
        "\n",
        "    Xhat=full_generator(z,training=False)\n",
        "\n",
        "    plot_array(Xhat)\n",
        "    \n",
        "\n",
        " ```   \n",
        "\n",
        "</details>\n"
      ]
    },
    {
      "cell_type": "markdown",
      "metadata": {
        "id": "SIlJR_zq9j9U"
      },
      "source": [
        "__Thank you for completing this lab!__\n",
        "<center><img src=\"https://cf-courses-data.s3.us.cloud-object-storage.appdomain.cloud/IBM-GPXX0XCEEN/images/unknown5.jpeg\" width=\"500px\"></center>\n"
      ]
    },
    {
      "cell_type": "markdown",
      "metadata": {
        "id": "uyy70gUZ9j9U"
      },
      "source": [
        "----\n"
      ]
    }
  ],
  "metadata": {
    "colab": {
      "collapsed_sections": [
        "bU3rXoF-9j9R"
      ],
      "provenance": [],
      "gpuType": "T4",
      "include_colab_link": true
    },
    "kernelspec": {
      "display_name": "Python 3",
      "name": "python3"
    },
    "language_info": {
      "name": "python"
    },
    "accelerator": "GPU"
  },
  "nbformat": 4,
  "nbformat_minor": 0
}